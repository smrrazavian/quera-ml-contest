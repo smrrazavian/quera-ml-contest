{
  "nbformat": 4,
  "nbformat_minor": 0,
  "metadata": {
    "colab": {
      "provenance": []
    },
    "kernelspec": {
      "name": "python3",
      "display_name": "Python 3"
    },
    "language_info": {
      "name": "python"
    }
  },
  "cells": [
    {
      "cell_type": "markdown",
      "source": [
        "<h1 align=center style=\"line-height:200%;font-family:vazir;color:#0099cc\">\n",
        "<font face=\"vazir\" color=\"#0099cc\">\n",
        "شبی چند؟\n",
        "</font>\n",
        "</h1>"
      ],
      "metadata": {
        "id": "39tfTgmcbQUl"
      }
    },
    {
      "cell_type": "markdown",
      "source": [
        "<h2 align=right style=\"line-height:200%;font-family:vazir;color:#0099cc\">\n",
        "<font face=\"vazir\" color=\"#0099cc\">\n",
        "مقدمه و صورت مسئله\n",
        "</font>\n",
        "</h2>\n",
        "\n",
        "<p dir=rtl style=\"direction: rtl;text-align: justify;line-height:200%;font-family:vazir;font-size:medium\">\n",
        "<font face=\"vazir\" size=3>\n",
        "در سوال مجموعه‌داده‌ای از اقامتگاه‌های سایت جاجیگا در اخیار شما قرار داده شده است. هدف پیش‌بینی قیمت یک اقامتگاه با توجه به ویژگی‌ها و اطلاعات آن است.\n",
        "    \n",
        "</font>\n",
        "</p>"
      ],
      "metadata": {
        "id": "pjtVGnSHOUDg"
      }
    },
    {
      "cell_type": "markdown",
      "source": [
        "<h2 align=right style=\"line-height:200%;font-family:vazir;color:#0099cc\">\n",
        "<font face=\"vazir\" color=\"#0099cc\">\n",
        "وارد کردن کتابخانه‌های مورد نیاز\n",
        "</font>\n",
        "</h2>\n",
        "\n",
        "<p dir=rtl style=\"direction: rtl;text-align: right;line-height:200%;font-family:vazir;font-size:medium\">\n",
        "<font face=\"vazir\" size=3>\n",
        "    ابتدا کتابخانه‌های مورد نیازتان را وارد کنید.\n",
        "</font>\n",
        "</p>"
      ],
      "metadata": {
        "id": "r9dy0ev-PxV1"
      }
    },
    {
      "cell_type": "code",
      "source": [
        "import json\n",
        "import numpy as np\n",
        "import pandas as pd"
      ],
      "metadata": {
        "id": "qEm12Y9mOkER"
      },
      "execution_count": null,
      "outputs": []
    },
    {
      "cell_type": "markdown",
      "source": [
        "\n",
        "<h2 align=right style=\"line-height:200%;font-family:vazir;color:#0099cc\">\n",
        "<font face=\"vazir\" color=\"#0099cc\">\n",
        "معرفی مجموعه داده\n",
        "</font>\n",
        "</h2>\n",
        "\n",
        "<p dir=rtl style=\"direction: rtl;text-align: right;line-height:200%;font-family:vazir;font-size:medium\">\n",
        "<font face=\"vazir\" size=3>\n",
        "     مجموعه داده‌ی آموزش شامل ۴۷۷۶ سطر و ۴۴ ستون است. شرح این ستون‌ها در ادامه آمده است.\n",
        "     </p>\n",
        "</font>\n",
        "\n",
        "<p dir=rtl style=\"direction: rtl;text-align: right;line-height:200%;font-family:vazir;font-size:medium\">\n",
        "\n",
        "\n",
        "<center>\n",
        "<div dir=rtl style=\"direction: rtl;line-height:200%;font-family:vazir;font-size:medium\">\n",
        "<font face=\"vazir\" size=3>\n",
        "    \n",
        "|ستون|توضیحات|\n",
        "|:------:|:---:|\n",
        "|<code>id</code>|شناسه منحصر به فرد برای هر اقامتگاه|\n",
        "|<code>status</code>|وضعیت فعلی اقامتگاه (فعال یا غیرفعال)|\n",
        "|<code>title</code>|عنوان اقامتگاه|\n",
        "|<code>description</code>|شرح اقامتگاه|\n",
        "|<code>allocation</code>|نوع اجاره (کل مکان یا اتاق خصوصی)|\n",
        "|<code>types</code>|دسته‌ها یا انواع اقامتگاه (به عنوان مثال، کلبه، آپارتمان و ...)|\n",
        "|<code>regions</code>|مناطقی که اقامتگاه در آن قرار دارد (به عنوان مثال، جنگل، حومه و ...)|\n",
        "|<code>floor_area</code>|متراژ زمین اقامتگاه بر حسب متر مربع|\n",
        "|<code>land_area</code>|متراژ زیربنا اقامتگاه بر حسب متر مربع|\n",
        "|<code>floors_count</code>|تعداد طبقات اقامتگاه|\n",
        "|<code>bedrooms</code>|تعداد اتاق خواب|\n",
        "|<code>sleep_arrange</code>|چیدمان فضاهای خواب (به عنوان مثال، تخت، تشک و ..).|\n",
        "|<code>sleep_description</code>|شرح فضاهای خواب|\n",
        "|<code>guest_number</code>|تعداد مهمانانی که اقامتگاه می‌تواند در خود جای دهد|\n",
        "|<code>max_guest_number</code>|حداکثر تعداد مهمان مجاز|\n",
        "|<code>stays_min</code>|حداقل تعداد شب مورد نیاز برای رزرو|\n",
        "|<code>stays_max</code>|حداکثر تعداد شب‌های مجاز برای رزرو|\n",
        "|<code>entrance_time_min</code>|زودترین زمان ورود|\n",
        "|<code>entrance_time_max</code>|آخرین زمان ورود|\n",
        "|<code>leaving_time</code>|زمان خروج|\n",
        "|<code>features</code>|امکانات و ویژگی های موجود (به عنوان مثال، Wi-Fi، پارکینگ و ...)|\n",
        "|<code>additional_feature</code>|ویژگی‌های اضافی که تحت ویژگی‌های اصلی پوشش داده نمی‌شوند|\n",
        "|<code>additional_safety</code>|ویژگی‌های ایمنی (به عنوان مثال، آشکارسازهای دود، کپسول‌های آتش‌نشانی و ...)|\n",
        "|<code>rules</code>|قوانین خانه (مانند حیوانات خانگی ممنوع، سیگار کشیدن ممنوع و ...)|\n",
        "|<code>additional_rule</code>|قوانین اضافی تحت قوانین اصلی پوشش داده نمی‌شوند|\n",
        "|<code>min_price</code>|حداقل قیمت برای اجاره‌ی اقامتگاه|\n",
        "|<code>is_clean</code>|این که آیا اقامتگاه به عنوان تمیز علامت گذاری شده است|\n",
        "|<code>is_new</code>|این که آیا اقامتگاه جدید است|\n",
        "|<code>is_instant</code>|اینکه آیا رزرو فوری در دسترس است|\n",
        "|<code>is_plus</code>|اینکه آیا اقامتگاه ممتاز است|\n",
        "|<code>geo.lat</code>|عرض جغرافیایی ملک|\n",
        "|<code>geo.lng</code>|طول جغرافیایی ملک|\n",
        "|<code>province.id</code>|شناسه منحصر به فرد برای استان|\n",
        "|<code>province.name</code>|نام استان|\n",
        "|<code>province.url</code>|آدرس صفحه‌ی استان|\n",
        "|<code>city.id</code>|شناسه منحصر به فرد برای شهر|\n",
        "|<code>city.name</code>|نام شهر|\n",
        "|<code>city.url</code>|آدرس صفحه‌ی شهر|\n",
        "|<code>ratings.count</code>|تعداد امتیازهای دریافت شده|\n",
        "|<code>ratings.total</code>|امتیاز کل|\n",
        "|<code>ratings.cleanliness</code>|نمره‌ی تمیزی|\n",
        "|<code>ratings.location</code>|امتیاز موقعیت مکانی|\n",
        "|<code>ratings.checkin</code>|امتیاز فرایند ورود|\n",
        "|<code>ratings.value</code>|امتیاز ارزش به نسبت قیمت|\n",
        "</font>\n",
        "</div>\n",
        "</center>\n",
        "\n",
        "<p dir=rtl style=\"direction: rtl;text-align: right;line-height:200%;font-family:vazir;font-size:medium\">\n",
        "<font face=\"vazir\" size=3>\n",
        "هدف شما در این مسئه پیش‌بینی مقدار <code>min_price</code> است.\n",
        "     مجموعه‌ی آزمون (تست) مانند مجموعه‌ی آموزش است با این تفاوت که ستون <code>min_price</code> را ندارد.\n",
        "</font>\n",
        "\n",
        "<p dir=rtl style=\"direction: rtl;text-align: right;line-height:200%;font-family:vazir;font-size:medium\">"
      ],
      "metadata": {
        "id": "NZelMWtQP2cl"
      }
    },
    {
      "cell_type": "markdown",
      "source": [
        "<h2 align=right style=\"line-height:200%;font-family:vazir;color:#0099cc\">\n",
        "<font face=\"vazir\" color=\"#0099cc\">\n",
        "خواندن مجموعه داده\n",
        "</font>\n",
        "</h2>\n",
        "\n",
        "<p dir=rtl style=\"direction: rtl; text-align: justify; line-height:200%; font-family:vazir; font-size:medium\">\n",
        "<font face=\"vazir\" size=3>\n",
        "    در ابتدا نیاز است فایل‌های مجموعه‌داده را بخوانید. نمونه‌های آموزشی در فایل <code>train.csv</code> و نمونه‌های آزمون که باید مقدار متغیر هدف آن‌ها را پیش‌بینی کنید در فایل <code>test.csv</code> ذخیره شده‌اند. اگر لازم دانستید می‌توانید به دلخواه خود بخشی از مجموعه‌ی آموزش را به عنوان مجموعه‌ی اعتبارسنجی نیز جدا کنید.\n",
        "</font>\n",
        "</p>"
      ],
      "metadata": {
        "id": "Y7vRr_C4PrPv"
      }
    },
    {
      "cell_type": "code",
      "source": [
        "train_data = None # To-Do\n",
        "test_data = None # To-Do"
      ],
      "metadata": {
        "id": "F0Bo84hGPt0w"
      },
      "execution_count": null,
      "outputs": []
    },
    {
      "cell_type": "markdown",
      "source": [
        "<h2 align=right style=\"line-height:200%;font-family:vazir;color:#0099cc\">\n",
        "<font face=\"vazir\" color=\"#0099cc\">\n",
        "پیش‌پردازش و مهندسی ویژگی\n",
        "</font>\n",
        "</h2>\n",
        "\n",
        "<p dir=rtl style=\"direction: rtl; text-align: justify; line-height:200%; font-family:vazir; font-size:medium\">\n",
        "<font face=\"vazir\" size=3>\n",
        "    در این سوال شما می‌توانید از هر تکنیک پیش‌پردازش یا مهندسی ویژگی، استفاده کنید.\n",
        "    <br>\n",
        "    تکنیک‌هایی که استفاده می‌کنید به شکل مستقیم مورد ارزیابی توسط سامانه داوری قرار <b>نمی‌گیرند.</b> بلکه همه آن‌ها در دقت مدل شما تاثیر خواهند گذاشت.\n",
        "</font>\n",
        "</p>"
      ],
      "metadata": {
        "id": "RFiZm-LxYMrB"
      }
    },
    {
      "cell_type": "code",
      "source": [
        "#preprocessing and feature engineering!"
      ],
      "metadata": {
        "id": "n86H-kHaX5Qj"
      },
      "execution_count": null,
      "outputs": []
    },
    {
      "cell_type": "markdown",
      "source": [
        "<h2 align=right style=\"line-height:200%;font-family:vazir;color:#0099cc\">\n",
        "<font face=\"vazir\" color=\"#0099cc\">\n",
        "مدل‌سازی\n",
        "</font>\n",
        "</h2>\n",
        "\n",
        "<p dir=rtl style=\"direction: rtl; text-align: justify; line-height:200%; font-family:vazir; font-size:medium\">\n",
        "<font face=\"vazir\" size=3>\n",
        "پس از پاکسازی داده‌ها و احتمالا حذف بعضی ستون‌ها یا افزودن ویژگی‌های جدید، حال وقت آن است که مطابق سلیقه‌ی خود، مدل مناسب را با استفاده از داده‌های پیش‌پردازش شده آموزش دهید.\n",
        "</font>\n",
        "</p>"
      ],
      "metadata": {
        "id": "2tHaVKFyYdxr"
      }
    },
    {
      "cell_type": "code",
      "source": [
        "# To-Do\n",
        "model ="
      ],
      "metadata": {
        "id": "stYeDr5BYi5g"
      },
      "execution_count": null,
      "outputs": []
    },
    {
      "cell_type": "markdown",
      "source": [
        "<h3 align=right style=\"line-height:200%;font-family:vazir;color:#0099cc\">\n",
        "<font face=\"vazir\" color=\"#0099cc\">\n",
        "معیار ارزیابی\n",
        "</font>\n",
        "</h3>\n",
        "<p dir=rtl style=\"direction: rtl; text-align: justify; line-height:200%; font-family:vazir; font-size:medium\">\n",
        "<font face=\"vazir\" size=3>\n",
        "    در این سوال از معیار  R2 Score جهت ارزیابی نتایج مدل شما استفاده خواهد شد.\n",
        "    در سامانه داوری هم از این معیار برای نمره‌دهی استفاده شده است.\n",
        "    <br>\n",
        "    پیشنهاد می‌شود با توجه به این معیار، عملکرد مدل خود را بر روی مجموعه‌ی آموزش یا اعتبارسنجی ارزیابی کنید.\n",
        "</font>\n",
        "</p>"
      ],
      "metadata": {
        "id": "cLoHLZkUYm8Q"
      }
    },
    {
      "cell_type": "code",
      "source": [
        "# evaluate your model\n",
        "from sklearn.metrics import r2_score\n",
        "\n",
        "# To-Do"
      ],
      "metadata": {
        "id": "MjP1etskYtjC"
      },
      "execution_count": null,
      "outputs": []
    },
    {
      "cell_type": "markdown",
      "source": [
        "<p dir=rtl style=\"direction: rtl; text-align: justify; line-height:200%; font-family:vazir; font-size:medium\">\n",
        "<font color=\"red\"><b color='red'>توجه:</b></font>\n",
        "<font face=\"vazir\" size=3>\n",
        " جهت کسب امتیاز نیاز است تا پاسخ شما حداقل امتیاز <code>50</code> را با توجه به معیار معرفی‌شده کسب نماید.\n",
        "</font>\n",
        "</p>"
      ],
      "metadata": {
        "id": "jyWHmH6qY3Ug"
      }
    },
    {
      "cell_type": "markdown",
      "source": [
        "<h2 align=right style=\"line-height:200%;font-family:vazir;color:#0099cc\">\n",
        "<font face=\"vazir\" color=\"#0099cc\">\n",
        " پیش‌بینی بر روی داده‌ی آزمون و خروجی\n",
        "</font>\n",
        "</h2>\n",
        "\n",
        "<p dir=rtl style=\"direction: rtl;text-align: justify;line-height:200%;font-family:vazir;font-size:medium\">\n",
        "<font face=\"vazir\" size=3>\n",
        "    پیش‌بینی مدل خود بر روی داده‌های آزمون را در یک دیتافریم (<code>dataframe</code>) به فرمت زیر ذخیره کنید.\n",
        "</font>\n",
        "</p>\n",
        "\n",
        "\n",
        "<p dir=rtl style=\"direction: rtl;text-align: justify;line-height:200%;font-family:vazir;font-size:medium\">\n",
        "<font face=\"vazir\" size=3>\n",
        "    توجه داشته باشید که نام دیتافریم باید <code>submission</code> باشد؛ در غیر این‌صورت، سامانه‌ی داوری قادر به ارزیابی خروجی شما نخواهد بود.\n",
        "    این دیتافریم تنها شامل ۱ ستون با اسم <code>min_price</code> است.\n",
        "    <br>\n",
        "    به ازای هر سطر موجود در دیتافریم <code>test</code>، باید یک مقدار پیش‌بینی‌شده داشته باشید.\n",
        "    به‌عنوان مثال جدول زیر، ۵ سطر ابتدایی دیتافریم <code>submission</code> را نشان می‌دهد. البته در جواب شما، اعداد ستون <code>min_price</code> ممکن است متفاوت باشد.\n",
        "</font>\n",
        "</p>\n",
        "\n",
        "<center>\n",
        "<div style=\"direction: ltr;line-height:200%;font-family:vazir;font-size:medium\">\n",
        "<font face=\"vazir\" size=3>\n",
        "    \n",
        "||<code>min_price</code>|\n",
        "|:----:|:-----:|\n",
        "|0|700000|\n",
        "|1|650000|\n",
        "|2|5000000|\n",
        "|3|800000|\n",
        "|4|750000|\n",
        "\n",
        "</font>\n",
        "</div>\n",
        "</center>"
      ],
      "metadata": {
        "id": "WNcSEtXoyhMv"
      }
    },
    {
      "cell_type": "code",
      "source": [
        "# To-Do\n",
        "submission ="
      ],
      "metadata": {
        "id": "rJuhMbbHY7-f"
      },
      "execution_count": null,
      "outputs": []
    },
    {
      "cell_type": "markdown",
      "source": [
        "<h2 align=right style=\"line-height:200%;font-family:vazir;color:#0099cc\">\n",
        "<font face=\"vazir\" color=\"#0099cc\">\n",
        "<b>سلول جواب‌ساز</b>\n",
        "</font>\n",
        "</h2>\n",
        "\n",
        "<p dir=rtl style=\"direction: rtl; text-align: justify; line-height:200%; font-family:vazir; font-size:medium\">\n",
        "<font face=\"vazir\" size=3>\n",
        "    برای ساخته‌شدن فایل <code>result.zip</code> سلول زیر را اجرا کنید. توجه داشته باشید که پیش از اجرای سلول زیر تغییرات اعمال شده در نت‌بوک را ذخیره کرده باشید (<code>ctrl+s</code>) تا در صورت نیاز به پشتیبانی امکان بررسی کد شما وجود داشته باشد.\n",
        "</font>\n",
        "</p>"
      ],
      "metadata": {
        "id": "sHGyEstwzlc3"
      }
    },
    {
      "cell_type": "code",
      "source": [
        "import zipfile\n",
        "\n",
        "def compress(file_names):\n",
        "    print(\"File Paths:\")\n",
        "    print(file_names)\n",
        "    compression = zipfile.ZIP_DEFLATED\n",
        "    with zipfile.ZipFile(\"result.zip\", mode=\"w\") as zf:\n",
        "        for file_name in file_names:\n",
        "            zf.write('./' + file_name, file_name, compress_type=compression)\n",
        "\n",
        "submission.to_csv('submission.csv', index=False)\n",
        "\n",
        "file_names = ['submission.csv', 'Jajiga.ipynb']\n",
        "compress(file_names)"
      ],
      "metadata": {
        "id": "LWuqWi46zi_-"
      },
      "execution_count": null,
      "outputs": []
    }
  ]
}