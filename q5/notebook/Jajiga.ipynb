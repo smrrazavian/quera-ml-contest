{
  "cells": [
    {
      "cell_type": "markdown",
      "metadata": {
        "id": "39tfTgmcbQUl"
      },
      "source": [
        "<h1 align=center style=\"line-height:200%;font-family:vazir;color:#0099cc\">\n",
        "<font face=\"vazir\" color=\"#0099cc\">\n",
        "شبی چند؟\n",
        "</font>\n",
        "</h1>"
      ]
    },
    {
      "cell_type": "markdown",
      "metadata": {
        "id": "pjtVGnSHOUDg"
      },
      "source": [
        "<h2 align=right style=\"line-height:200%;font-family:vazir;color:#0099cc\">\n",
        "<font face=\"vazir\" color=\"#0099cc\">\n",
        "مقدمه و صورت مسئله\n",
        "</font>\n",
        "</h2>\n",
        "\n",
        "<p dir=rtl style=\"direction: rtl;text-align: justify;line-height:200%;font-family:vazir;font-size:medium\">\n",
        "<font face=\"vazir\" size=3>\n",
        "در سوال مجموعه‌داده‌ای از اقامتگاه‌های سایت جاجیگا در اخیار شما قرار داده شده است. هدف پیش‌بینی قیمت یک اقامتگاه با توجه به ویژگی‌ها و اطلاعات آن است.\n",
        "    \n",
        "</font>\n",
        "</p>"
      ]
    },
    {
      "cell_type": "markdown",
      "metadata": {
        "id": "r9dy0ev-PxV1"
      },
      "source": [
        "<h2 align=right style=\"line-height:200%;font-family:vazir;color:#0099cc\">\n",
        "<font face=\"vazir\" color=\"#0099cc\">\n",
        "وارد کردن کتابخانه‌های مورد نیاز\n",
        "</font>\n",
        "</h2>\n",
        "\n",
        "<p dir=rtl style=\"direction: rtl;text-align: right;line-height:200%;font-family:vazir;font-size:medium\">\n",
        "<font face=\"vazir\" size=3>\n",
        "    ابتدا کتابخانه‌های مورد نیازتان را وارد کنید.\n",
        "</font>\n",
        "</p>"
      ]
    },
    {
      "cell_type": "code",
      "execution_count": 1,
      "metadata": {
        "id": "qEm12Y9mOkER"
      },
      "outputs": [],
      "source": [
        "import json\n",
        "import numpy as np\n",
        "import ast\n",
        "import pandas as pd"
      ]
    },
    {
      "cell_type": "markdown",
      "metadata": {
        "id": "NZelMWtQP2cl"
      },
      "source": [
        "\n",
        "<h2 align=right style=\"line-height:200%;font-family:vazir;color:#0099cc\">\n",
        "<font face=\"vazir\" color=\"#0099cc\">\n",
        "معرفی مجموعه داده\n",
        "</font>\n",
        "</h2>\n",
        "\n",
        "<p dir=rtl style=\"direction: rtl;text-align: right;line-height:200%;font-family:vazir;font-size:medium\">\n",
        "<font face=\"vazir\" size=3>\n",
        "     مجموعه داده‌ی آموزش شامل ۴۷۷۶ سطر و ۴۴ ستون است. شرح این ستون‌ها در ادامه آمده است.\n",
        "     </p>\n",
        "</font>\n",
        "\n",
        "<p dir=rtl style=\"direction: rtl;text-align: right;line-height:200%;font-family:vazir;font-size:medium\">\n",
        "\n",
        "\n",
        "<center>\n",
        "<div dir=rtl style=\"direction: rtl;line-height:200%;font-family:vazir;font-size:medium\">\n",
        "<font face=\"vazir\" size=3>\n",
        "    \n",
        "|ستون|توضیحات|\n",
        "|:------:|:---:|\n",
        "|<code>id</code>|شناسه منحصر به فرد برای هر اقامتگاه|\n",
        "|<code>status</code>|وضعیت فعلی اقامتگاه (فعال یا غیرفعال)|\n",
        "|<code>title</code>|عنوان اقامتگاه|\n",
        "|<code>description</code>|شرح اقامتگاه|\n",
        "|<code>allocation</code>|نوع اجاره (کل مکان یا اتاق خصوصی)|\n",
        "|<code>types</code>|دسته‌ها یا انواع اقامتگاه (به عنوان مثال، کلبه، آپارتمان و ...)|\n",
        "|<code>regions</code>|مناطقی که اقامتگاه در آن قرار دارد (به عنوان مثال، جنگل، حومه و ...)|\n",
        "|<code>floor_area</code>|متراژ زمین اقامتگاه بر حسب متر مربع|\n",
        "|<code>land_area</code>|متراژ زیربنا اقامتگاه بر حسب متر مربع|\n",
        "|<code>floors_count</code>|تعداد طبقات اقامتگاه|\n",
        "|<code>bedrooms</code>|تعداد اتاق خواب|\n",
        "|<code>sleep_arrange</code>|چیدمان فضاهای خواب (به عنوان مثال، تخت، تشک و ..).|\n",
        "|<code>sleep_description</code>|شرح فضاهای خواب|\n",
        "|<code>guest_number</code>|تعداد مهمانانی که اقامتگاه می‌تواند در خود جای دهد|\n",
        "|<code>max_guest_number</code>|حداکثر تعداد مهمان مجاز|\n",
        "|<code>stays_min</code>|حداقل تعداد شب مورد نیاز برای رزرو|\n",
        "|<code>stays_max</code>|حداکثر تعداد شب‌های مجاز برای رزرو|\n",
        "|<code>entrance_time_min</code>|زودترین زمان ورود|\n",
        "|<code>entrance_time_max</code>|آخرین زمان ورود|\n",
        "|<code>leaving_time</code>|زمان خروج|\n",
        "|<code>features</code>|امکانات و ویژگی های موجود (به عنوان مثال، Wi-Fi، پارکینگ و ...)|\n",
        "|<code>additional_feature</code>|ویژگی‌های اضافی که تحت ویژگی‌های اصلی پوشش داده نمی‌شوند|\n",
        "|<code>additional_safety</code>|ویژگی‌های ایمنی (به عنوان مثال، آشکارسازهای دود، کپسول‌های آتش‌نشانی و ...)|\n",
        "|<code>rules</code>|قوانین خانه (مانند حیوانات خانگی ممنوع، سیگار کشیدن ممنوع و ...)|\n",
        "|<code>additional_rule</code>|قوانین اضافی تحت قوانین اصلی پوشش داده نمی‌شوند|\n",
        "|<code>min_price</code>|حداقل قیمت برای اجاره‌ی اقامتگاه|\n",
        "|<code>is_clean</code>|این که آیا اقامتگاه به عنوان تمیز علامت گذاری شده است|\n",
        "|<code>is_new</code>|این که آیا اقامتگاه جدید است|\n",
        "|<code>is_instant</code>|اینکه آیا رزرو فوری در دسترس است|\n",
        "|<code>is_plus</code>|اینکه آیا اقامتگاه ممتاز است|\n",
        "|<code>geo.lat</code>|عرض جغرافیایی ملک|\n",
        "|<code>geo.lng</code>|طول جغرافیایی ملک|\n",
        "|<code>province.id</code>|شناسه منحصر به فرد برای استان|\n",
        "|<code>province.name</code>|نام استان|\n",
        "|<code>province.url</code>|آدرس صفحه‌ی استان|\n",
        "|<code>city.id</code>|شناسه منحصر به فرد برای شهر|\n",
        "|<code>city.name</code>|نام شهر|\n",
        "|<code>city.url</code>|آدرس صفحه‌ی شهر|\n",
        "|<code>ratings.count</code>|تعداد امتیازهای دریافت شده|\n",
        "|<code>ratings.total</code>|امتیاز کل|\n",
        "|<code>ratings.cleanliness</code>|نمره‌ی تمیزی|\n",
        "|<code>ratings.location</code>|امتیاز موقعیت مکانی|\n",
        "|<code>ratings.checkin</code>|امتیاز فرایند ورود|\n",
        "|<code>ratings.value</code>|امتیاز ارزش به نسبت قیمت|\n",
        "</font>\n",
        "</div>\n",
        "</center>\n",
        "\n",
        "<p dir=rtl style=\"direction: rtl;text-align: right;line-height:200%;font-family:vazir;font-size:medium\">\n",
        "<font face=\"vazir\" size=3>\n",
        "هدف شما در این مسئه پیش‌بینی مقدار <code>min_price</code> است.\n",
        "     مجموعه‌ی آزمون (تست) مانند مجموعه‌ی آموزش است با این تفاوت که ستون <code>min_price</code> را ندارد.\n",
        "</font>\n",
        "\n",
        "<p dir=rtl style=\"direction: rtl;text-align: right;line-height:200%;font-family:vazir;font-size:medium\">"
      ]
    },
    {
      "cell_type": "markdown",
      "metadata": {
        "id": "Y7vRr_C4PrPv"
      },
      "source": [
        "<h2 align=right style=\"line-height:200%;font-family:vazir;color:#0099cc\">\n",
        "<font face=\"vazir\" color=\"#0099cc\">\n",
        "خواندن مجموعه داده\n",
        "</font>\n",
        "</h2>\n",
        "\n",
        "<p dir=rtl style=\"direction: rtl; text-align: justify; line-height:200%; font-family:vazir; font-size:medium\">\n",
        "<font face=\"vazir\" size=3>\n",
        "    در ابتدا نیاز است فایل‌های مجموعه‌داده را بخوانید. نمونه‌های آموزشی در فایل <code>train.csv</code> و نمونه‌های آزمون که باید مقدار متغیر هدف آن‌ها را پیش‌بینی کنید در فایل <code>test.csv</code> ذخیره شده‌اند. اگر لازم دانستید می‌توانید به دلخواه خود بخشی از مجموعه‌ی آموزش را به عنوان مجموعه‌ی اعتبارسنجی نیز جدا کنید.\n",
        "</font>\n",
        "</p>"
      ]
    },
    {
      "cell_type": "code",
      "execution_count": null,
      "metadata": {
        "id": "F0Bo84hGPt0w"
      },
      "outputs": [],
      "source": [
        "train_data = pd.read_csv('../data/train.csv')\n",
        "test_data = pd.read_csv('../data/test.csv')\n",
        "train_data"
      ]
    },
    {
      "cell_type": "code",
      "execution_count": null,
      "metadata": {},
      "outputs": [],
      "source": [
        "train_data.columns"
      ]
    },
    {
      "cell_type": "code",
      "execution_count": null,
      "metadata": {},
      "outputs": [],
      "source": [
        "train_data[\"allocation\"].hist()"
      ]
    },
    {
      "cell_type": "code",
      "execution_count": null,
      "metadata": {},
      "outputs": [],
      "source": [
        "train_data[\"types\"] = [ast.literal_eval(i) for i in train_data[\"types\"]]\n",
        "train_data.loc[0][\"types\"]"
      ]
    },
    {
      "cell_type": "code",
      "execution_count": null,
      "metadata": {},
      "outputs": [],
      "source": [
        "set([item for sublist in train_data[\"types\"].apply(list) for item in sublist])"
      ]
    },
    {
      "cell_type": "code",
      "execution_count": null,
      "metadata": {},
      "outputs": [],
      "source": [
        "type(train_data.loc[0][\"regions\"])\n",
        "train_data[\"regions\"] = [ast.literal_eval(i) for i in train_data[\"regions\"]]\n",
        "train_data[]"
      ]
    },
    {
      "cell_type": "code",
      "execution_count": null,
      "metadata": {},
      "outputs": [],
      "source": [
        "set([item for sublist in train_data[\"regions\"].apply(list) for item in sublist])"
      ]
    },
    {
      "cell_type": "code",
      "execution_count": 3,
      "metadata": {},
      "outputs": [],
      "source": [
        "def aggregate_sleep_arrange(sleep_arrange_str):\n",
        "    sleep_arrange_list = ast.literal_eval(sleep_arrange_str)\n",
        "\n",
        "    total_single = 0\n",
        "    total_double = 0\n",
        "    total_mattress = 0\n",
        "\n",
        "    for item in sleep_arrange_list:\n",
        "        total_single += item.get(\"single\", 0)\n",
        "        total_double += item.get(\"double\", 0)\n",
        "        total_mattress += item.get(\"mattress\", 0)\n",
        "\n",
        "    return total_single, total_double, total_mattress\n",
        "\n",
        "def extract_feature_names(features_str):\n",
        "    features_list = ast.literal_eval(features_str)\n",
        "    \n",
        "    return [feature['name'] for feature in features_list]"
      ]
    },
    {
      "cell_type": "code",
      "execution_count": 61,
      "metadata": {},
      "outputs": [
        {
          "data": {
            "text/plain": [
              "array([\"['pet']\", \"['pet', 'smoke']\", \"['party', 'pet']\",\n",
              "       \"['party', 'pet', 'smoke', 'unmarried']\",\n",
              "       \"['party', 'pet', 'smoke']\", \"['pet', 'unmarried']\", \"['party']\",\n",
              "       '[]', \"['pet', 'smoke', 'unmarried']\", \"['smoke']\",\n",
              "       \"['party', 'pet', 'unmarried']\", \"['smoke', 'unmarried']\",\n",
              "       \"['party', 'smoke']\", \"['party', 'unmarried']\",\n",
              "       \"['party', 'smoke', 'unmarried']\", \"['unmarried']\"], dtype=object)"
            ]
          },
          "execution_count": 61,
          "metadata": {},
          "output_type": "execute_result"
        }
      ],
      "source": [
        "df = pd.read_csv(\"../data/train.csv\")\n",
        "df[\"rules\"].unique()"
      ]
    },
    {
      "cell_type": "code",
      "execution_count": 56,
      "metadata": {},
      "outputs": [
        {
          "data": {
            "application/vnd.plotly.v1+json": {
              "config": {
                "plotlyServerURL": "https://plot.ly"
              },
              "data": [
                {
                  "name": "Train",
                  "type": "bar",
                  "x": [
                    "Unnamed: 0",
                    "id",
                    "status",
                    "title",
                    "description",
                    "allocation",
                    "types",
                    "regions",
                    "floor_area",
                    "land_area",
                    "floors_count",
                    "bedrooms",
                    "sleep_arrange",
                    "sleep_description",
                    "guest_number",
                    "max_guest_number",
                    "stays_min",
                    "stays_max",
                    "entrance_time_min",
                    "entrance_time_max",
                    "leaving_time",
                    "features",
                    "additional_feature",
                    "additional_safety",
                    "rules",
                    "additional_rule",
                    "min_price",
                    "is_clean",
                    "is_new",
                    "is_instant",
                    "is_plus",
                    "geo.lat",
                    "geo.lng",
                    "province.id",
                    "province.name",
                    "province.url",
                    "city.id",
                    "city.name",
                    "city.url",
                    "ratings.count",
                    "ratings.total",
                    "ratings.cleanliness",
                    "ratings.location",
                    "ratings.checkin",
                    "ratings.value",
                    "units_count",
                    "success_books"
                  ],
                  "xaxis": "x",
                  "y": [
                    0,
                    0,
                    0,
                    0,
                    0,
                    0,
                    0,
                    0,
                    0,
                    0,
                    0,
                    0,
                    0,
                    3090,
                    0,
                    0,
                    0,
                    4673,
                    0,
                    0,
                    0,
                    0,
                    3874,
                    4751,
                    0,
                    2083,
                    0,
                    0,
                    0,
                    0,
                    0,
                    0,
                    0,
                    0,
                    0,
                    0,
                    0,
                    0,
                    0,
                    0,
                    0,
                    0,
                    0,
                    0,
                    0,
                    0,
                    0
                  ],
                  "yaxis": "y"
                },
                {
                  "name": "Test",
                  "type": "bar",
                  "x": [
                    "Unnamed: 0",
                    "id",
                    "status",
                    "title",
                    "description",
                    "allocation",
                    "types",
                    "regions",
                    "floor_area",
                    "land_area",
                    "floors_count",
                    "bedrooms",
                    "sleep_arrange",
                    "sleep_description",
                    "guest_number",
                    "max_guest_number",
                    "stays_min",
                    "stays_max",
                    "entrance_time_min",
                    "entrance_time_max",
                    "leaving_time",
                    "features",
                    "additional_feature",
                    "additional_safety",
                    "rules",
                    "additional_rule",
                    "is_clean",
                    "is_new",
                    "is_instant",
                    "is_plus",
                    "geo.lat",
                    "geo.lng",
                    "province.id",
                    "province.name",
                    "province.url",
                    "city.id",
                    "city.name",
                    "city.url",
                    "ratings.count",
                    "ratings.total",
                    "ratings.cleanliness",
                    "ratings.location",
                    "ratings.checkin",
                    "ratings.value",
                    "units_count",
                    "success_books"
                  ],
                  "xaxis": "x2",
                  "y": [
                    0,
                    0,
                    0,
                    0,
                    0,
                    0,
                    0,
                    0,
                    0,
                    0,
                    0,
                    0,
                    0,
                    762,
                    0,
                    0,
                    0,
                    1158,
                    0,
                    0,
                    0,
                    0,
                    972,
                    1187,
                    0,
                    488,
                    0,
                    0,
                    0,
                    0,
                    0,
                    0,
                    0,
                    0,
                    0,
                    0,
                    0,
                    0,
                    0,
                    0,
                    0,
                    0,
                    0,
                    0,
                    0,
                    0
                  ],
                  "yaxis": "y2"
                }
              ],
              "layout": {
                "annotations": [
                  {
                    "font": {
                      "size": 16
                    },
                    "showarrow": false,
                    "text": "Train Nans",
                    "x": 0.225,
                    "xanchor": "center",
                    "xref": "paper",
                    "y": 1,
                    "yanchor": "bottom",
                    "yref": "paper"
                  },
                  {
                    "font": {
                      "size": 16
                    },
                    "showarrow": false,
                    "text": "Test Nans",
                    "x": 0.775,
                    "xanchor": "center",
                    "xref": "paper",
                    "y": 1,
                    "yanchor": "bottom",
                    "yref": "paper"
                  }
                ],
                "showlegend": false,
                "template": {
                  "data": {
                    "bar": [
                      {
                        "error_x": {
                          "color": "#2a3f5f"
                        },
                        "error_y": {
                          "color": "#2a3f5f"
                        },
                        "marker": {
                          "line": {
                            "color": "#E5ECF6",
                            "width": 0.5
                          },
                          "pattern": {
                            "fillmode": "overlay",
                            "size": 10,
                            "solidity": 0.2
                          }
                        },
                        "type": "bar"
                      }
                    ],
                    "barpolar": [
                      {
                        "marker": {
                          "line": {
                            "color": "#E5ECF6",
                            "width": 0.5
                          },
                          "pattern": {
                            "fillmode": "overlay",
                            "size": 10,
                            "solidity": 0.2
                          }
                        },
                        "type": "barpolar"
                      }
                    ],
                    "carpet": [
                      {
                        "aaxis": {
                          "endlinecolor": "#2a3f5f",
                          "gridcolor": "white",
                          "linecolor": "white",
                          "minorgridcolor": "white",
                          "startlinecolor": "#2a3f5f"
                        },
                        "baxis": {
                          "endlinecolor": "#2a3f5f",
                          "gridcolor": "white",
                          "linecolor": "white",
                          "minorgridcolor": "white",
                          "startlinecolor": "#2a3f5f"
                        },
                        "type": "carpet"
                      }
                    ],
                    "choropleth": [
                      {
                        "colorbar": {
                          "outlinewidth": 0,
                          "ticks": ""
                        },
                        "type": "choropleth"
                      }
                    ],
                    "contour": [
                      {
                        "colorbar": {
                          "outlinewidth": 0,
                          "ticks": ""
                        },
                        "colorscale": [
                          [
                            0,
                            "#0d0887"
                          ],
                          [
                            0.1111111111111111,
                            "#46039f"
                          ],
                          [
                            0.2222222222222222,
                            "#7201a8"
                          ],
                          [
                            0.3333333333333333,
                            "#9c179e"
                          ],
                          [
                            0.4444444444444444,
                            "#bd3786"
                          ],
                          [
                            0.5555555555555556,
                            "#d8576b"
                          ],
                          [
                            0.6666666666666666,
                            "#ed7953"
                          ],
                          [
                            0.7777777777777778,
                            "#fb9f3a"
                          ],
                          [
                            0.8888888888888888,
                            "#fdca26"
                          ],
                          [
                            1,
                            "#f0f921"
                          ]
                        ],
                        "type": "contour"
                      }
                    ],
                    "contourcarpet": [
                      {
                        "colorbar": {
                          "outlinewidth": 0,
                          "ticks": ""
                        },
                        "type": "contourcarpet"
                      }
                    ],
                    "heatmap": [
                      {
                        "colorbar": {
                          "outlinewidth": 0,
                          "ticks": ""
                        },
                        "colorscale": [
                          [
                            0,
                            "#0d0887"
                          ],
                          [
                            0.1111111111111111,
                            "#46039f"
                          ],
                          [
                            0.2222222222222222,
                            "#7201a8"
                          ],
                          [
                            0.3333333333333333,
                            "#9c179e"
                          ],
                          [
                            0.4444444444444444,
                            "#bd3786"
                          ],
                          [
                            0.5555555555555556,
                            "#d8576b"
                          ],
                          [
                            0.6666666666666666,
                            "#ed7953"
                          ],
                          [
                            0.7777777777777778,
                            "#fb9f3a"
                          ],
                          [
                            0.8888888888888888,
                            "#fdca26"
                          ],
                          [
                            1,
                            "#f0f921"
                          ]
                        ],
                        "type": "heatmap"
                      }
                    ],
                    "heatmapgl": [
                      {
                        "colorbar": {
                          "outlinewidth": 0,
                          "ticks": ""
                        },
                        "colorscale": [
                          [
                            0,
                            "#0d0887"
                          ],
                          [
                            0.1111111111111111,
                            "#46039f"
                          ],
                          [
                            0.2222222222222222,
                            "#7201a8"
                          ],
                          [
                            0.3333333333333333,
                            "#9c179e"
                          ],
                          [
                            0.4444444444444444,
                            "#bd3786"
                          ],
                          [
                            0.5555555555555556,
                            "#d8576b"
                          ],
                          [
                            0.6666666666666666,
                            "#ed7953"
                          ],
                          [
                            0.7777777777777778,
                            "#fb9f3a"
                          ],
                          [
                            0.8888888888888888,
                            "#fdca26"
                          ],
                          [
                            1,
                            "#f0f921"
                          ]
                        ],
                        "type": "heatmapgl"
                      }
                    ],
                    "histogram": [
                      {
                        "marker": {
                          "pattern": {
                            "fillmode": "overlay",
                            "size": 10,
                            "solidity": 0.2
                          }
                        },
                        "type": "histogram"
                      }
                    ],
                    "histogram2d": [
                      {
                        "colorbar": {
                          "outlinewidth": 0,
                          "ticks": ""
                        },
                        "colorscale": [
                          [
                            0,
                            "#0d0887"
                          ],
                          [
                            0.1111111111111111,
                            "#46039f"
                          ],
                          [
                            0.2222222222222222,
                            "#7201a8"
                          ],
                          [
                            0.3333333333333333,
                            "#9c179e"
                          ],
                          [
                            0.4444444444444444,
                            "#bd3786"
                          ],
                          [
                            0.5555555555555556,
                            "#d8576b"
                          ],
                          [
                            0.6666666666666666,
                            "#ed7953"
                          ],
                          [
                            0.7777777777777778,
                            "#fb9f3a"
                          ],
                          [
                            0.8888888888888888,
                            "#fdca26"
                          ],
                          [
                            1,
                            "#f0f921"
                          ]
                        ],
                        "type": "histogram2d"
                      }
                    ],
                    "histogram2dcontour": [
                      {
                        "colorbar": {
                          "outlinewidth": 0,
                          "ticks": ""
                        },
                        "colorscale": [
                          [
                            0,
                            "#0d0887"
                          ],
                          [
                            0.1111111111111111,
                            "#46039f"
                          ],
                          [
                            0.2222222222222222,
                            "#7201a8"
                          ],
                          [
                            0.3333333333333333,
                            "#9c179e"
                          ],
                          [
                            0.4444444444444444,
                            "#bd3786"
                          ],
                          [
                            0.5555555555555556,
                            "#d8576b"
                          ],
                          [
                            0.6666666666666666,
                            "#ed7953"
                          ],
                          [
                            0.7777777777777778,
                            "#fb9f3a"
                          ],
                          [
                            0.8888888888888888,
                            "#fdca26"
                          ],
                          [
                            1,
                            "#f0f921"
                          ]
                        ],
                        "type": "histogram2dcontour"
                      }
                    ],
                    "mesh3d": [
                      {
                        "colorbar": {
                          "outlinewidth": 0,
                          "ticks": ""
                        },
                        "type": "mesh3d"
                      }
                    ],
                    "parcoords": [
                      {
                        "line": {
                          "colorbar": {
                            "outlinewidth": 0,
                            "ticks": ""
                          }
                        },
                        "type": "parcoords"
                      }
                    ],
                    "pie": [
                      {
                        "automargin": true,
                        "type": "pie"
                      }
                    ],
                    "scatter": [
                      {
                        "fillpattern": {
                          "fillmode": "overlay",
                          "size": 10,
                          "solidity": 0.2
                        },
                        "type": "scatter"
                      }
                    ],
                    "scatter3d": [
                      {
                        "line": {
                          "colorbar": {
                            "outlinewidth": 0,
                            "ticks": ""
                          }
                        },
                        "marker": {
                          "colorbar": {
                            "outlinewidth": 0,
                            "ticks": ""
                          }
                        },
                        "type": "scatter3d"
                      }
                    ],
                    "scattercarpet": [
                      {
                        "marker": {
                          "colorbar": {
                            "outlinewidth": 0,
                            "ticks": ""
                          }
                        },
                        "type": "scattercarpet"
                      }
                    ],
                    "scattergeo": [
                      {
                        "marker": {
                          "colorbar": {
                            "outlinewidth": 0,
                            "ticks": ""
                          }
                        },
                        "type": "scattergeo"
                      }
                    ],
                    "scattergl": [
                      {
                        "marker": {
                          "colorbar": {
                            "outlinewidth": 0,
                            "ticks": ""
                          }
                        },
                        "type": "scattergl"
                      }
                    ],
                    "scattermapbox": [
                      {
                        "marker": {
                          "colorbar": {
                            "outlinewidth": 0,
                            "ticks": ""
                          }
                        },
                        "type": "scattermapbox"
                      }
                    ],
                    "scatterpolar": [
                      {
                        "marker": {
                          "colorbar": {
                            "outlinewidth": 0,
                            "ticks": ""
                          }
                        },
                        "type": "scatterpolar"
                      }
                    ],
                    "scatterpolargl": [
                      {
                        "marker": {
                          "colorbar": {
                            "outlinewidth": 0,
                            "ticks": ""
                          }
                        },
                        "type": "scatterpolargl"
                      }
                    ],
                    "scatterternary": [
                      {
                        "marker": {
                          "colorbar": {
                            "outlinewidth": 0,
                            "ticks": ""
                          }
                        },
                        "type": "scatterternary"
                      }
                    ],
                    "surface": [
                      {
                        "colorbar": {
                          "outlinewidth": 0,
                          "ticks": ""
                        },
                        "colorscale": [
                          [
                            0,
                            "#0d0887"
                          ],
                          [
                            0.1111111111111111,
                            "#46039f"
                          ],
                          [
                            0.2222222222222222,
                            "#7201a8"
                          ],
                          [
                            0.3333333333333333,
                            "#9c179e"
                          ],
                          [
                            0.4444444444444444,
                            "#bd3786"
                          ],
                          [
                            0.5555555555555556,
                            "#d8576b"
                          ],
                          [
                            0.6666666666666666,
                            "#ed7953"
                          ],
                          [
                            0.7777777777777778,
                            "#fb9f3a"
                          ],
                          [
                            0.8888888888888888,
                            "#fdca26"
                          ],
                          [
                            1,
                            "#f0f921"
                          ]
                        ],
                        "type": "surface"
                      }
                    ],
                    "table": [
                      {
                        "cells": {
                          "fill": {
                            "color": "#EBF0F8"
                          },
                          "line": {
                            "color": "white"
                          }
                        },
                        "header": {
                          "fill": {
                            "color": "#C8D4E3"
                          },
                          "line": {
                            "color": "white"
                          }
                        },
                        "type": "table"
                      }
                    ]
                  },
                  "layout": {
                    "annotationdefaults": {
                      "arrowcolor": "#2a3f5f",
                      "arrowhead": 0,
                      "arrowwidth": 1
                    },
                    "autotypenumbers": "strict",
                    "coloraxis": {
                      "colorbar": {
                        "outlinewidth": 0,
                        "ticks": ""
                      }
                    },
                    "colorscale": {
                      "diverging": [
                        [
                          0,
                          "#8e0152"
                        ],
                        [
                          0.1,
                          "#c51b7d"
                        ],
                        [
                          0.2,
                          "#de77ae"
                        ],
                        [
                          0.3,
                          "#f1b6da"
                        ],
                        [
                          0.4,
                          "#fde0ef"
                        ],
                        [
                          0.5,
                          "#f7f7f7"
                        ],
                        [
                          0.6,
                          "#e6f5d0"
                        ],
                        [
                          0.7,
                          "#b8e186"
                        ],
                        [
                          0.8,
                          "#7fbc41"
                        ],
                        [
                          0.9,
                          "#4d9221"
                        ],
                        [
                          1,
                          "#276419"
                        ]
                      ],
                      "sequential": [
                        [
                          0,
                          "#0d0887"
                        ],
                        [
                          0.1111111111111111,
                          "#46039f"
                        ],
                        [
                          0.2222222222222222,
                          "#7201a8"
                        ],
                        [
                          0.3333333333333333,
                          "#9c179e"
                        ],
                        [
                          0.4444444444444444,
                          "#bd3786"
                        ],
                        [
                          0.5555555555555556,
                          "#d8576b"
                        ],
                        [
                          0.6666666666666666,
                          "#ed7953"
                        ],
                        [
                          0.7777777777777778,
                          "#fb9f3a"
                        ],
                        [
                          0.8888888888888888,
                          "#fdca26"
                        ],
                        [
                          1,
                          "#f0f921"
                        ]
                      ],
                      "sequentialminus": [
                        [
                          0,
                          "#0d0887"
                        ],
                        [
                          0.1111111111111111,
                          "#46039f"
                        ],
                        [
                          0.2222222222222222,
                          "#7201a8"
                        ],
                        [
                          0.3333333333333333,
                          "#9c179e"
                        ],
                        [
                          0.4444444444444444,
                          "#bd3786"
                        ],
                        [
                          0.5555555555555556,
                          "#d8576b"
                        ],
                        [
                          0.6666666666666666,
                          "#ed7953"
                        ],
                        [
                          0.7777777777777778,
                          "#fb9f3a"
                        ],
                        [
                          0.8888888888888888,
                          "#fdca26"
                        ],
                        [
                          1,
                          "#f0f921"
                        ]
                      ]
                    },
                    "colorway": [
                      "#636efa",
                      "#EF553B",
                      "#00cc96",
                      "#ab63fa",
                      "#FFA15A",
                      "#19d3f3",
                      "#FF6692",
                      "#B6E880",
                      "#FF97FF",
                      "#FECB52"
                    ],
                    "font": {
                      "color": "#2a3f5f"
                    },
                    "geo": {
                      "bgcolor": "white",
                      "lakecolor": "white",
                      "landcolor": "#E5ECF6",
                      "showlakes": true,
                      "showland": true,
                      "subunitcolor": "white"
                    },
                    "hoverlabel": {
                      "align": "left"
                    },
                    "hovermode": "closest",
                    "mapbox": {
                      "style": "light"
                    },
                    "paper_bgcolor": "white",
                    "plot_bgcolor": "#E5ECF6",
                    "polar": {
                      "angularaxis": {
                        "gridcolor": "white",
                        "linecolor": "white",
                        "ticks": ""
                      },
                      "bgcolor": "#E5ECF6",
                      "radialaxis": {
                        "gridcolor": "white",
                        "linecolor": "white",
                        "ticks": ""
                      }
                    },
                    "scene": {
                      "xaxis": {
                        "backgroundcolor": "#E5ECF6",
                        "gridcolor": "white",
                        "gridwidth": 2,
                        "linecolor": "white",
                        "showbackground": true,
                        "ticks": "",
                        "zerolinecolor": "white"
                      },
                      "yaxis": {
                        "backgroundcolor": "#E5ECF6",
                        "gridcolor": "white",
                        "gridwidth": 2,
                        "linecolor": "white",
                        "showbackground": true,
                        "ticks": "",
                        "zerolinecolor": "white"
                      },
                      "zaxis": {
                        "backgroundcolor": "#E5ECF6",
                        "gridcolor": "white",
                        "gridwidth": 2,
                        "linecolor": "white",
                        "showbackground": true,
                        "ticks": "",
                        "zerolinecolor": "white"
                      }
                    },
                    "shapedefaults": {
                      "line": {
                        "color": "#2a3f5f"
                      }
                    },
                    "ternary": {
                      "aaxis": {
                        "gridcolor": "white",
                        "linecolor": "white",
                        "ticks": ""
                      },
                      "baxis": {
                        "gridcolor": "white",
                        "linecolor": "white",
                        "ticks": ""
                      },
                      "bgcolor": "#E5ECF6",
                      "caxis": {
                        "gridcolor": "white",
                        "linecolor": "white",
                        "ticks": ""
                      }
                    },
                    "title": {
                      "x": 0.05
                    },
                    "xaxis": {
                      "automargin": true,
                      "gridcolor": "white",
                      "linecolor": "white",
                      "ticks": "",
                      "title": {
                        "standoff": 15
                      },
                      "zerolinecolor": "white",
                      "zerolinewidth": 2
                    },
                    "yaxis": {
                      "automargin": true,
                      "gridcolor": "white",
                      "linecolor": "white",
                      "ticks": "",
                      "title": {
                        "standoff": 15
                      },
                      "zerolinecolor": "white",
                      "zerolinewidth": 2
                    }
                  }
                },
                "title": {
                  "text": "Count of NaN Values in Two DataFrames"
                },
                "xaxis": {
                  "anchor": "y",
                  "domain": [
                    0,
                    0.45
                  ]
                },
                "xaxis2": {
                  "anchor": "y2",
                  "domain": [
                    0.55,
                    1
                  ]
                },
                "yaxis": {
                  "anchor": "x",
                  "domain": [
                    0,
                    1
                  ]
                },
                "yaxis2": {
                  "anchor": "x2",
                  "domain": [
                    0,
                    1
                  ]
                }
              }
            }
          },
          "metadata": {},
          "output_type": "display_data"
        }
      ],
      "source": [
        "import pandas as pd\n",
        "import plotly.graph_objects as go\n",
        "from plotly.subplots import make_subplots\n",
        "\n",
        "df_train = pd.read_csv(\"../data/train.csv\")\n",
        "df_test = pd.read_csv(\"../data/test.csv\")\n",
        "\n",
        "nan_counts_train = df_train.isna().sum()\n",
        "\n",
        "nan_counts_test = df_test.isna().sum()\n",
        "\n",
        "fig = make_subplots(\n",
        "    rows=1,\n",
        "    cols=2,\n",
        "    subplot_titles=(\"Train Nans\", \"Test Nans\"),\n",
        ")\n",
        "\n",
        "fig.add_trace(\n",
        "    go.Bar(x=nan_counts_train.index, y=nan_counts_train.values, name=\"Train\"),\n",
        "    row=1,\n",
        "    col=1,\n",
        ")\n",
        "\n",
        "fig.add_trace(\n",
        "    go.Bar(x=nan_counts_test.index, y=nan_counts_test.values, name=\"Test\"),\n",
        "    row=1,\n",
        "    col=2,\n",
        ")\n",
        "\n",
        "fig.update_layout(title_text=\"Count of NaN Values in Two DataFrames\", showlegend=False)\n",
        "\n",
        "fig.show()"
      ]
    },
    {
      "cell_type": "code",
      "execution_count": 109,
      "metadata": {},
      "outputs": [
        {
          "data": {
            "text/html": [
              "<div>\n",
              "<style scoped>\n",
              "    .dataframe tbody tr th:only-of-type {\n",
              "        vertical-align: middle;\n",
              "    }\n",
              "\n",
              "    .dataframe tbody tr th {\n",
              "        vertical-align: top;\n",
              "    }\n",
              "\n",
              "    .dataframe thead th {\n",
              "        text-align: right;\n",
              "    }\n",
              "</style>\n",
              "<table border=\"1\" class=\"dataframe\">\n",
              "  <thead>\n",
              "    <tr style=\"text-align: right;\">\n",
              "      <th></th>\n",
              "      <th>floor_area</th>\n",
              "      <th>land_area</th>\n",
              "      <th>bedrooms</th>\n",
              "      <th>guest_number</th>\n",
              "      <th>max_guest_number</th>\n",
              "      <th>stays_min</th>\n",
              "      <th>entrance_time_min</th>\n",
              "      <th>entrance_time_max</th>\n",
              "      <th>leaving_time</th>\n",
              "      <th>min_price</th>\n",
              "      <th>...</th>\n",
              "      <th>city.id_441</th>\n",
              "      <th>city.id_442</th>\n",
              "      <th>city.id_444</th>\n",
              "      <th>city.id_446</th>\n",
              "      <th>city.id_449</th>\n",
              "      <th>city.id_455</th>\n",
              "      <th>city.id_456</th>\n",
              "      <th>city.id_467</th>\n",
              "      <th>city.id_485</th>\n",
              "      <th>city.id_487</th>\n",
              "    </tr>\n",
              "  </thead>\n",
              "  <tbody>\n",
              "    <tr>\n",
              "      <th>0</th>\n",
              "      <td>60</td>\n",
              "      <td>1200</td>\n",
              "      <td>1</td>\n",
              "      <td>2</td>\n",
              "      <td>3</td>\n",
              "      <td>1</td>\n",
              "      <td>14</td>\n",
              "      <td>0</td>\n",
              "      <td>12</td>\n",
              "      <td>1500000</td>\n",
              "      <td>...</td>\n",
              "      <td>0</td>\n",
              "      <td>0</td>\n",
              "      <td>0</td>\n",
              "      <td>0</td>\n",
              "      <td>0</td>\n",
              "      <td>0</td>\n",
              "      <td>0</td>\n",
              "      <td>0</td>\n",
              "      <td>0</td>\n",
              "      <td>0</td>\n",
              "    </tr>\n",
              "    <tr>\n",
              "      <th>1</th>\n",
              "      <td>80</td>\n",
              "      <td>1000</td>\n",
              "      <td>2</td>\n",
              "      <td>5</td>\n",
              "      <td>10</td>\n",
              "      <td>1</td>\n",
              "      <td>14</td>\n",
              "      <td>0</td>\n",
              "      <td>12</td>\n",
              "      <td>1600000</td>\n",
              "      <td>...</td>\n",
              "      <td>0</td>\n",
              "      <td>0</td>\n",
              "      <td>0</td>\n",
              "      <td>0</td>\n",
              "      <td>0</td>\n",
              "      <td>0</td>\n",
              "      <td>0</td>\n",
              "      <td>0</td>\n",
              "      <td>0</td>\n",
              "      <td>0</td>\n",
              "    </tr>\n",
              "    <tr>\n",
              "      <th>2</th>\n",
              "      <td>60</td>\n",
              "      <td>450</td>\n",
              "      <td>1</td>\n",
              "      <td>2</td>\n",
              "      <td>6</td>\n",
              "      <td>1</td>\n",
              "      <td>14</td>\n",
              "      <td>0</td>\n",
              "      <td>12</td>\n",
              "      <td>730000</td>\n",
              "      <td>...</td>\n",
              "      <td>0</td>\n",
              "      <td>0</td>\n",
              "      <td>0</td>\n",
              "      <td>0</td>\n",
              "      <td>0</td>\n",
              "      <td>0</td>\n",
              "      <td>0</td>\n",
              "      <td>0</td>\n",
              "      <td>0</td>\n",
              "      <td>0</td>\n",
              "    </tr>\n",
              "    <tr>\n",
              "      <th>3</th>\n",
              "      <td>110</td>\n",
              "      <td>1000</td>\n",
              "      <td>1</td>\n",
              "      <td>6</td>\n",
              "      <td>8</td>\n",
              "      <td>1</td>\n",
              "      <td>14</td>\n",
              "      <td>24</td>\n",
              "      <td>12</td>\n",
              "      <td>3000000</td>\n",
              "      <td>...</td>\n",
              "      <td>0</td>\n",
              "      <td>0</td>\n",
              "      <td>0</td>\n",
              "      <td>0</td>\n",
              "      <td>0</td>\n",
              "      <td>0</td>\n",
              "      <td>0</td>\n",
              "      <td>0</td>\n",
              "      <td>0</td>\n",
              "      <td>0</td>\n",
              "    </tr>\n",
              "    <tr>\n",
              "      <th>4</th>\n",
              "      <td>14</td>\n",
              "      <td>234</td>\n",
              "      <td>0</td>\n",
              "      <td>2</td>\n",
              "      <td>2</td>\n",
              "      <td>1</td>\n",
              "      <td>14</td>\n",
              "      <td>23</td>\n",
              "      <td>12</td>\n",
              "      <td>2300000</td>\n",
              "      <td>...</td>\n",
              "      <td>0</td>\n",
              "      <td>0</td>\n",
              "      <td>0</td>\n",
              "      <td>0</td>\n",
              "      <td>0</td>\n",
              "      <td>0</td>\n",
              "      <td>0</td>\n",
              "      <td>0</td>\n",
              "      <td>0</td>\n",
              "      <td>0</td>\n",
              "    </tr>\n",
              "    <tr>\n",
              "      <th>...</th>\n",
              "      <td>...</td>\n",
              "      <td>...</td>\n",
              "      <td>...</td>\n",
              "      <td>...</td>\n",
              "      <td>...</td>\n",
              "      <td>...</td>\n",
              "      <td>...</td>\n",
              "      <td>...</td>\n",
              "      <td>...</td>\n",
              "      <td>...</td>\n",
              "      <td>...</td>\n",
              "      <td>...</td>\n",
              "      <td>...</td>\n",
              "      <td>...</td>\n",
              "      <td>...</td>\n",
              "      <td>...</td>\n",
              "      <td>...</td>\n",
              "      <td>...</td>\n",
              "      <td>...</td>\n",
              "      <td>...</td>\n",
              "      <td>...</td>\n",
              "    </tr>\n",
              "    <tr>\n",
              "      <th>4771</th>\n",
              "      <td>120</td>\n",
              "      <td>500</td>\n",
              "      <td>2</td>\n",
              "      <td>4</td>\n",
              "      <td>10</td>\n",
              "      <td>1</td>\n",
              "      <td>14</td>\n",
              "      <td>24</td>\n",
              "      <td>12</td>\n",
              "      <td>2000000</td>\n",
              "      <td>...</td>\n",
              "      <td>0</td>\n",
              "      <td>0</td>\n",
              "      <td>0</td>\n",
              "      <td>0</td>\n",
              "      <td>0</td>\n",
              "      <td>0</td>\n",
              "      <td>0</td>\n",
              "      <td>0</td>\n",
              "      <td>0</td>\n",
              "      <td>0</td>\n",
              "    </tr>\n",
              "    <tr>\n",
              "      <th>4772</th>\n",
              "      <td>25</td>\n",
              "      <td>500</td>\n",
              "      <td>0</td>\n",
              "      <td>4</td>\n",
              "      <td>5</td>\n",
              "      <td>1</td>\n",
              "      <td>14</td>\n",
              "      <td>0</td>\n",
              "      <td>12</td>\n",
              "      <td>3414000</td>\n",
              "      <td>...</td>\n",
              "      <td>0</td>\n",
              "      <td>0</td>\n",
              "      <td>0</td>\n",
              "      <td>0</td>\n",
              "      <td>0</td>\n",
              "      <td>0</td>\n",
              "      <td>0</td>\n",
              "      <td>0</td>\n",
              "      <td>0</td>\n",
              "      <td>0</td>\n",
              "    </tr>\n",
              "    <tr>\n",
              "      <th>4773</th>\n",
              "      <td>80</td>\n",
              "      <td>300</td>\n",
              "      <td>2</td>\n",
              "      <td>4</td>\n",
              "      <td>8</td>\n",
              "      <td>1</td>\n",
              "      <td>14</td>\n",
              "      <td>0</td>\n",
              "      <td>12</td>\n",
              "      <td>2800000</td>\n",
              "      <td>...</td>\n",
              "      <td>0</td>\n",
              "      <td>0</td>\n",
              "      <td>0</td>\n",
              "      <td>0</td>\n",
              "      <td>0</td>\n",
              "      <td>0</td>\n",
              "      <td>0</td>\n",
              "      <td>0</td>\n",
              "      <td>0</td>\n",
              "      <td>0</td>\n",
              "    </tr>\n",
              "    <tr>\n",
              "      <th>4774</th>\n",
              "      <td>110</td>\n",
              "      <td>630</td>\n",
              "      <td>2</td>\n",
              "      <td>4</td>\n",
              "      <td>10</td>\n",
              "      <td>1</td>\n",
              "      <td>14</td>\n",
              "      <td>23</td>\n",
              "      <td>12</td>\n",
              "      <td>2200000</td>\n",
              "      <td>...</td>\n",
              "      <td>0</td>\n",
              "      <td>0</td>\n",
              "      <td>0</td>\n",
              "      <td>0</td>\n",
              "      <td>0</td>\n",
              "      <td>0</td>\n",
              "      <td>0</td>\n",
              "      <td>0</td>\n",
              "      <td>0</td>\n",
              "      <td>0</td>\n",
              "    </tr>\n",
              "    <tr>\n",
              "      <th>4775</th>\n",
              "      <td>58</td>\n",
              "      <td>400</td>\n",
              "      <td>0</td>\n",
              "      <td>4</td>\n",
              "      <td>6</td>\n",
              "      <td>1</td>\n",
              "      <td>14</td>\n",
              "      <td>24</td>\n",
              "      <td>12</td>\n",
              "      <td>1200000</td>\n",
              "      <td>...</td>\n",
              "      <td>0</td>\n",
              "      <td>0</td>\n",
              "      <td>0</td>\n",
              "      <td>0</td>\n",
              "      <td>0</td>\n",
              "      <td>0</td>\n",
              "      <td>0</td>\n",
              "      <td>0</td>\n",
              "      <td>0</td>\n",
              "      <td>0</td>\n",
              "    </tr>\n",
              "  </tbody>\n",
              "</table>\n",
              "<p>4776 rows × 155 columns</p>\n",
              "</div>"
            ],
            "text/plain": [
              "      floor_area  land_area  bedrooms  guest_number  max_guest_number  \\\n",
              "0             60       1200         1             2                 3   \n",
              "1             80       1000         2             5                10   \n",
              "2             60        450         1             2                 6   \n",
              "3            110       1000         1             6                 8   \n",
              "4             14        234         0             2                 2   \n",
              "...          ...        ...       ...           ...               ...   \n",
              "4771         120        500         2             4                10   \n",
              "4772          25        500         0             4                 5   \n",
              "4773          80        300         2             4                 8   \n",
              "4774         110        630         2             4                10   \n",
              "4775          58        400         0             4                 6   \n",
              "\n",
              "      stays_min  entrance_time_min  entrance_time_max  leaving_time  \\\n",
              "0             1                 14                  0            12   \n",
              "1             1                 14                  0            12   \n",
              "2             1                 14                  0            12   \n",
              "3             1                 14                 24            12   \n",
              "4             1                 14                 23            12   \n",
              "...         ...                ...                ...           ...   \n",
              "4771          1                 14                 24            12   \n",
              "4772          1                 14                  0            12   \n",
              "4773          1                 14                  0            12   \n",
              "4774          1                 14                 23            12   \n",
              "4775          1                 14                 24            12   \n",
              "\n",
              "      min_price  ...  city.id_441  city.id_442  city.id_444  city.id_446  \\\n",
              "0       1500000  ...            0            0            0            0   \n",
              "1       1600000  ...            0            0            0            0   \n",
              "2        730000  ...            0            0            0            0   \n",
              "3       3000000  ...            0            0            0            0   \n",
              "4       2300000  ...            0            0            0            0   \n",
              "...         ...  ...          ...          ...          ...          ...   \n",
              "4771    2000000  ...            0            0            0            0   \n",
              "4772    3414000  ...            0            0            0            0   \n",
              "4773    2800000  ...            0            0            0            0   \n",
              "4774    2200000  ...            0            0            0            0   \n",
              "4775    1200000  ...            0            0            0            0   \n",
              "\n",
              "      city.id_449  city.id_455  city.id_456  city.id_467  city.id_485  \\\n",
              "0               0            0            0            0            0   \n",
              "1               0            0            0            0            0   \n",
              "2               0            0            0            0            0   \n",
              "3               0            0            0            0            0   \n",
              "4               0            0            0            0            0   \n",
              "...           ...          ...          ...          ...          ...   \n",
              "4771            0            0            0            0            0   \n",
              "4772            0            0            0            0            0   \n",
              "4773            0            0            0            0            0   \n",
              "4774            0            0            0            0            0   \n",
              "4775            0            0            0            0            0   \n",
              "\n",
              "      city.id_487  \n",
              "0               0  \n",
              "1               0  \n",
              "2               0  \n",
              "3               0  \n",
              "4               0  \n",
              "...           ...  \n",
              "4771            0  \n",
              "4772            0  \n",
              "4773            0  \n",
              "4774            0  \n",
              "4775            0  \n",
              "\n",
              "[4776 rows x 155 columns]"
            ]
          },
          "execution_count": 109,
          "metadata": {},
          "output_type": "execute_result"
        }
      ],
      "source": [
        "from sklearn.preprocessing import MinMaxScaler\n",
        "\n",
        "scaler = MinMaxScaler()\n",
        "# scaler_y = MinMaxScaler()\n",
        "\n",
        "\n",
        "def inverse_transform_min_price(normalized_price):\n",
        "    \"\"\"Inverse transform the normalized min_price to its original value\"\"\"\n",
        "    return scaler_y.inverse_transform(normalized_price.reshape(-1, 1))\n",
        "\n",
        "\n",
        "def preprocess(df: pd.DataFrame, df_type=\"train\") -> pd.DataFrame:\n",
        "    df.drop(\n",
        "        columns=[\n",
        "            \"id\",\n",
        "            \"Unnamed: 0\",\n",
        "            \"title\",\n",
        "            \"description\",\n",
        "            # \"province.id\",\n",
        "            \"province.url\",\n",
        "            \"province.name\",\n",
        "            \"city.url\",\n",
        "            # \"city.id\",\n",
        "            \"city.name\",\n",
        "            \"floors_count\",\n",
        "            \"additional_rule\",\n",
        "            \"stays_max\",\n",
        "            \"additional_safety\",\n",
        "            \"sleep_description\",\n",
        "            \"additional_feature\",\n",
        "            \"status\",\n",
        "            # New\n",
        "            # \"leaving_time\",\n",
        "            # \"entrance_time_max\",\n",
        "            # \"entrance_time_min\",\n",
        "            # \"units_count\",\n",
        "            # \"geo.lat\",\n",
        "            # \"geo.lng\",\n",
        "        ],\n",
        "        inplace=True,\n",
        "    )\n",
        "\n",
        "    # df[\"ratio_guestss\"] = df[\"max_guest_number\"] / df[\"guest_number\"]\n",
        "    df[\"types\"] = [ast.literal_eval(i) for i in df[\"types\"]]\n",
        "    df[\"regions\"] = [ast.literal_eval(i) for i in df[\"regions\"]]\n",
        "    df[[\"total_single\", \"total_double\", \"total_mattress\"]] = (\n",
        "        df[\"sleep_arrange\"].apply(aggregate_sleep_arrange).apply(pd.Series)\n",
        "    )\n",
        "    df.drop(columns=[\"sleep_arrange\"], inplace=True)\n",
        "    types = set([item for sublist in df[\"types\"].apply(list) for item in sublist])\n",
        "    regions = set([item for sublist in df[\"regions\"].apply(list) for item in sublist])\n",
        "\n",
        "    df[\"rules\"] = df[\"rules\"].apply(ast.literal_eval)\n",
        "    rules = set([item for sublist in df[\"rules\"] for item in sublist])\n",
        "    allocations = set(df[\"allocation\"])\n",
        "\n",
        "    df[\"feature_names\"] = df[\"features\"].apply(extract_feature_names)\n",
        "    df_one_hot = df[\"feature_names\"].str.join(\"|\").str.get_dummies()\n",
        "    df = pd.concat([df, df_one_hot], axis=1)\n",
        "    df.drop(columns=[\"feature_names\", \"features\"], inplace=True)\n",
        "    for t in types:\n",
        "        df[t] = df[\"types\"].apply(lambda x: t in x).astype(int)\n",
        "    for r in regions:\n",
        "        df[r] = df[\"regions\"].apply(lambda x: r in x).astype(int)\n",
        "\n",
        "    for a in allocations:\n",
        "        df[a] = (df[\"allocation\"] == a).astype(int)\n",
        "    for r in rules:\n",
        "        df[r] = df[\"rules\"].apply(lambda x: r in x).astype(int)\n",
        "\n",
        "    df = df.drop(columns=[\"types\", \"regions\", \"allocation\", \"rules\"])\n",
        "\n",
        "    # norm_cols = [\n",
        "    #     \"geo.lat\",\n",
        "    #     \"geo.lng\",\n",
        "    #     # \"land_area\",\n",
        "    #     # \"floor_area\",\n",
        "    #     # \"units_count\"\n",
        "    # ]\n",
        "    # df[norm_cols] = scaler.fit_transform(df[norm_cols])\n",
        "\n",
        "    # df[\"status\"] = [1 if i == \"active\" else 0 for i in df[\"status\"]]\n",
        "    init_one_hot_columns = [\"province.id\", \"city.id\"]\n",
        "    for item in init_one_hot_columns:\n",
        "\n",
        "        df_train_encoded = pd.get_dummies(df, columns=[item], prefix=item)\n",
        "        one_hot_columns = [col for col in df_train_encoded.columns if f\"{item}_\" in col]\n",
        "        df_train_encoded[one_hot_columns] = df_train_encoded[one_hot_columns].astype(\n",
        "            int\n",
        "        )\n",
        "\n",
        "        df = df.join(df_train_encoded[one_hot_columns])\n",
        "        df.drop(item, axis=1, inplace=True)\n",
        "\n",
        "    # if df_type == \"train\":\n",
        "    #     y = df[\"min_price\"].values.reshape(-1, 1)\n",
        "    #     df[\"min_price\"] = scaler_y.fit_transform(y)\n",
        "\n",
        "    for col in df.columns:\n",
        "        if df[col].dtype == bool:\n",
        "            df[col] = df[col].astype(int)\n",
        "\n",
        "    return df\n",
        "\n",
        "\n",
        "train_data = pd.read_csv(\"../data/train.csv\")\n",
        "df = preprocess(train_data)\n",
        "df"
      ]
    },
    {
      "cell_type": "markdown",
      "metadata": {
        "id": "RFiZm-LxYMrB"
      },
      "source": [
        "<h2 align=right style=\"line-height:200%;font-family:vazir;color:#0099cc\">\n",
        "<font face=\"vazir\" color=\"#0099cc\">\n",
        "پیش‌پردازش و مهندسی ویژگی\n",
        "</font>\n",
        "</h2>\n",
        "\n",
        "<p dir=rtl style=\"direction: rtl; text-align: justify; line-height:200%; font-family:vazir; font-size:medium\">\n",
        "<font face=\"vazir\" size=3>\n",
        "    در این سوال شما می‌توانید از هر تکنیک پیش‌پردازش یا مهندسی ویژگی، استفاده کنید.\n",
        "    <br>\n",
        "    تکنیک‌هایی که استفاده می‌کنید به شکل مستقیم مورد ارزیابی توسط سامانه داوری قرار <b>نمی‌گیرند.</b> بلکه همه آن‌ها در دقت مدل شما تاثیر خواهند گذاشت.\n",
        "</font>\n",
        "</p>"
      ]
    },
    {
      "cell_type": "code",
      "execution_count": 96,
      "metadata": {},
      "outputs": [
        {
          "ename": "ValueError",
          "evalue": "could not convert string to float: 'active'",
          "output_type": "error",
          "traceback": [
            "\u001b[0;31m---------------------------------------------------------------------------\u001b[0m",
            "\u001b[0;31mValueError\u001b[0m                                Traceback (most recent call last)",
            "Cell \u001b[0;32mIn[96], line 4\u001b[0m\n\u001b[1;32m      2\u001b[0m \u001b[38;5;28;01mimport\u001b[39;00m \u001b[38;5;21;01mmatplotlib\u001b[39;00m\u001b[38;5;21;01m.\u001b[39;00m\u001b[38;5;21;01mpyplot\u001b[39;00m \u001b[38;5;28;01mas\u001b[39;00m \u001b[38;5;21;01mplt\u001b[39;00m\n\u001b[1;32m      3\u001b[0m df \u001b[38;5;241m=\u001b[39m pd\u001b[38;5;241m.\u001b[39mread_csv(\u001b[38;5;124m\"\u001b[39m\u001b[38;5;124m../data/train.csv\u001b[39m\u001b[38;5;124m\"\u001b[39m)\n\u001b[0;32m----> 4\u001b[0m corr_matrix \u001b[38;5;241m=\u001b[39m \u001b[43mdf\u001b[49m\u001b[38;5;241;43m.\u001b[39;49m\u001b[43mcorr\u001b[49m\u001b[43m(\u001b[49m\u001b[43m)\u001b[49m\n\u001b[1;32m      5\u001b[0m plt\u001b[38;5;241m.\u001b[39mfigure(figsize\u001b[38;5;241m=\u001b[39m(\u001b[38;5;241m20\u001b[39m, \u001b[38;5;241m15\u001b[39m))\n\u001b[1;32m      6\u001b[0m sns\u001b[38;5;241m.\u001b[39mheatmap(corr_matrix, annot\u001b[38;5;241m=\u001b[39m\u001b[38;5;28;01mTrue\u001b[39;00m)\n",
            "File \u001b[0;32m/data/python-venvs/general/lib/python3.12/site-packages/pandas/core/frame.py:10704\u001b[0m, in \u001b[0;36mDataFrame.corr\u001b[0;34m(self, method, min_periods, numeric_only)\u001b[0m\n\u001b[1;32m  10702\u001b[0m cols \u001b[38;5;241m=\u001b[39m data\u001b[38;5;241m.\u001b[39mcolumns\n\u001b[1;32m  10703\u001b[0m idx \u001b[38;5;241m=\u001b[39m cols\u001b[38;5;241m.\u001b[39mcopy()\n\u001b[0;32m> 10704\u001b[0m mat \u001b[38;5;241m=\u001b[39m \u001b[43mdata\u001b[49m\u001b[38;5;241;43m.\u001b[39;49m\u001b[43mto_numpy\u001b[49m\u001b[43m(\u001b[49m\u001b[43mdtype\u001b[49m\u001b[38;5;241;43m=\u001b[39;49m\u001b[38;5;28;43mfloat\u001b[39;49m\u001b[43m,\u001b[49m\u001b[43m \u001b[49m\u001b[43mna_value\u001b[49m\u001b[38;5;241;43m=\u001b[39;49m\u001b[43mnp\u001b[49m\u001b[38;5;241;43m.\u001b[39;49m\u001b[43mnan\u001b[49m\u001b[43m,\u001b[49m\u001b[43m \u001b[49m\u001b[43mcopy\u001b[49m\u001b[38;5;241;43m=\u001b[39;49m\u001b[38;5;28;43;01mFalse\u001b[39;49;00m\u001b[43m)\u001b[49m\n\u001b[1;32m  10706\u001b[0m \u001b[38;5;28;01mif\u001b[39;00m method \u001b[38;5;241m==\u001b[39m \u001b[38;5;124m\"\u001b[39m\u001b[38;5;124mpearson\u001b[39m\u001b[38;5;124m\"\u001b[39m:\n\u001b[1;32m  10707\u001b[0m     correl \u001b[38;5;241m=\u001b[39m libalgos\u001b[38;5;241m.\u001b[39mnancorr(mat, minp\u001b[38;5;241m=\u001b[39mmin_periods)\n",
            "File \u001b[0;32m/data/python-venvs/general/lib/python3.12/site-packages/pandas/core/frame.py:1889\u001b[0m, in \u001b[0;36mDataFrame.to_numpy\u001b[0;34m(self, dtype, copy, na_value)\u001b[0m\n\u001b[1;32m   1887\u001b[0m \u001b[38;5;28;01mif\u001b[39;00m dtype \u001b[38;5;129;01mis\u001b[39;00m \u001b[38;5;129;01mnot\u001b[39;00m \u001b[38;5;28;01mNone\u001b[39;00m:\n\u001b[1;32m   1888\u001b[0m     dtype \u001b[38;5;241m=\u001b[39m np\u001b[38;5;241m.\u001b[39mdtype(dtype)\n\u001b[0;32m-> 1889\u001b[0m result \u001b[38;5;241m=\u001b[39m \u001b[38;5;28;43mself\u001b[39;49m\u001b[38;5;241;43m.\u001b[39;49m\u001b[43m_mgr\u001b[49m\u001b[38;5;241;43m.\u001b[39;49m\u001b[43mas_array\u001b[49m\u001b[43m(\u001b[49m\u001b[43mdtype\u001b[49m\u001b[38;5;241;43m=\u001b[39;49m\u001b[43mdtype\u001b[49m\u001b[43m,\u001b[49m\u001b[43m \u001b[49m\u001b[43mcopy\u001b[49m\u001b[38;5;241;43m=\u001b[39;49m\u001b[43mcopy\u001b[49m\u001b[43m,\u001b[49m\u001b[43m \u001b[49m\u001b[43mna_value\u001b[49m\u001b[38;5;241;43m=\u001b[39;49m\u001b[43mna_value\u001b[49m\u001b[43m)\u001b[49m\n\u001b[1;32m   1890\u001b[0m \u001b[38;5;28;01mif\u001b[39;00m result\u001b[38;5;241m.\u001b[39mdtype \u001b[38;5;129;01mis\u001b[39;00m \u001b[38;5;129;01mnot\u001b[39;00m dtype:\n\u001b[1;32m   1891\u001b[0m     result \u001b[38;5;241m=\u001b[39m np\u001b[38;5;241m.\u001b[39marray(result, dtype\u001b[38;5;241m=\u001b[39mdtype, copy\u001b[38;5;241m=\u001b[39m\u001b[38;5;28;01mFalse\u001b[39;00m)\n",
            "File \u001b[0;32m/data/python-venvs/general/lib/python3.12/site-packages/pandas/core/internals/managers.py:1656\u001b[0m, in \u001b[0;36mBlockManager.as_array\u001b[0;34m(self, dtype, copy, na_value)\u001b[0m\n\u001b[1;32m   1654\u001b[0m         arr\u001b[38;5;241m.\u001b[39mflags\u001b[38;5;241m.\u001b[39mwriteable \u001b[38;5;241m=\u001b[39m \u001b[38;5;28;01mFalse\u001b[39;00m\n\u001b[1;32m   1655\u001b[0m \u001b[38;5;28;01melse\u001b[39;00m:\n\u001b[0;32m-> 1656\u001b[0m     arr \u001b[38;5;241m=\u001b[39m \u001b[38;5;28;43mself\u001b[39;49m\u001b[38;5;241;43m.\u001b[39;49m\u001b[43m_interleave\u001b[49m\u001b[43m(\u001b[49m\u001b[43mdtype\u001b[49m\u001b[38;5;241;43m=\u001b[39;49m\u001b[43mdtype\u001b[49m\u001b[43m,\u001b[49m\u001b[43m \u001b[49m\u001b[43mna_value\u001b[49m\u001b[38;5;241;43m=\u001b[39;49m\u001b[43mna_value\u001b[49m\u001b[43m)\u001b[49m\n\u001b[1;32m   1657\u001b[0m     \u001b[38;5;66;03m# The underlying data was copied within _interleave, so no need\u001b[39;00m\n\u001b[1;32m   1658\u001b[0m     \u001b[38;5;66;03m# to further copy if copy=True or setting na_value\u001b[39;00m\n\u001b[1;32m   1660\u001b[0m \u001b[38;5;28;01mif\u001b[39;00m na_value \u001b[38;5;129;01mis\u001b[39;00m lib\u001b[38;5;241m.\u001b[39mno_default:\n",
            "File \u001b[0;32m/data/python-venvs/general/lib/python3.12/site-packages/pandas/core/internals/managers.py:1715\u001b[0m, in \u001b[0;36mBlockManager._interleave\u001b[0;34m(self, dtype, na_value)\u001b[0m\n\u001b[1;32m   1713\u001b[0m     \u001b[38;5;28;01melse\u001b[39;00m:\n\u001b[1;32m   1714\u001b[0m         arr \u001b[38;5;241m=\u001b[39m blk\u001b[38;5;241m.\u001b[39mget_values(dtype)\n\u001b[0;32m-> 1715\u001b[0m     \u001b[43mresult\u001b[49m\u001b[43m[\u001b[49m\u001b[43mrl\u001b[49m\u001b[38;5;241;43m.\u001b[39;49m\u001b[43mindexer\u001b[49m\u001b[43m]\u001b[49m \u001b[38;5;241m=\u001b[39m arr\n\u001b[1;32m   1716\u001b[0m     itemmask[rl\u001b[38;5;241m.\u001b[39mindexer] \u001b[38;5;241m=\u001b[39m \u001b[38;5;241m1\u001b[39m\n\u001b[1;32m   1718\u001b[0m \u001b[38;5;28;01mif\u001b[39;00m \u001b[38;5;129;01mnot\u001b[39;00m itemmask\u001b[38;5;241m.\u001b[39mall():\n",
            "\u001b[0;31mValueError\u001b[0m: could not convert string to float: 'active'"
          ]
        }
      ],
      "source": [
        "import seaborn as sns\n",
        "import matplotlib.pyplot as plt\n",
        "corr_matrix = df.corr()\n",
        "plt.figure(figsize=(20, 15))\n",
        "sns.heatmap(corr_matrix, annot=True)"
      ]
    },
    {
      "cell_type": "code",
      "execution_count": 91,
      "metadata": {},
      "outputs": [
        {
          "data": {
            "text/plain": [
              "['floor_area',\n",
              " 'land_area',\n",
              " 'bedrooms',\n",
              " 'guest_number',\n",
              " 'max_guest_number',\n",
              " 'stays_min',\n",
              " 'entrance_time_min',\n",
              " 'entrance_time_max',\n",
              " 'leaving_time',\n",
              " 'min_price',\n",
              " 'is_clean',\n",
              " 'is_new',\n",
              " 'is_instant',\n",
              " 'is_plus',\n",
              " 'geo.lat',\n",
              " 'geo.lng',\n",
              " 'ratings.count',\n",
              " 'ratings.total',\n",
              " 'ratings.cleanliness',\n",
              " 'ratings.location',\n",
              " 'ratings.checkin',\n",
              " 'ratings.value',\n",
              " 'units_count',\n",
              " 'success_books',\n",
              " 'ratio_guestss',\n",
              " 'total_single',\n",
              " 'total_double',\n",
              " 'total_mattress',\n",
              " 'barbecue',\n",
              " 'bathroom',\n",
              " 'billiard',\n",
              " 'breakfast',\n",
              " 'cooler',\n",
              " 'drawer',\n",
              " 'electricity',\n",
              " 'elevator',\n",
              " 'essentials',\n",
              " 'firealarm',\n",
              " 'fireextingu',\n",
              " 'firstaidkit',\n",
              " 'food',\n",
              " 'foosball',\n",
              " 'furniture',\n",
              " 'gym',\n",
              " 'hairdryer',\n",
              " 'heating',\n",
              " 'iron',\n",
              " 'islamictoilet',\n",
              " 'jacuzzi',\n",
              " 'janitor',\n",
              " 'kitchen',\n",
              " 'lifering',\n",
              " 'microwave',\n",
              " 'parking',\n",
              " 'phone',\n",
              " 'pool',\n",
              " 'refrigerator',\n",
              " 'safetycard',\n",
              " 'sauna',\n",
              " 'stave',\n",
              " 'table',\n",
              " 'toilet',\n",
              " 'tv',\n",
              " 'vacuumcleaner',\n",
              " 'washer',\n",
              " 'water',\n",
              " 'wifi',\n",
              " 'caravansera',\n",
              " 'wooden_cottage',\n",
              " 'ecolog',\n",
              " 'hostel',\n",
              " 'swiss_cottage',\n",
              " 'apartment',\n",
              " 'suite',\n",
              " 'boutiquehotel',\n",
              " 'motel',\n",
              " 'cottage',\n",
              " 'ruralhome',\n",
              " 'apartmenthotel',\n",
              " 'villa',\n",
              " 'urban',\n",
              " 'rural',\n",
              " 'suburb',\n",
              " 'beach',\n",
              " 'forest',\n",
              " 'desert',\n",
              " 'mountain',\n",
              " 'private_room',\n",
              " 'shared_place',\n",
              " 'shared_room',\n",
              " 'entire_place',\n",
              " 'pet',\n",
              " 'smoke',\n",
              " 'unmarried',\n",
              " 'party',\n",
              " 'province.id_p16',\n",
              " 'province.id_p24',\n",
              " 'province.id_p26',\n",
              " 'province.id_p28',\n",
              " 'province.id_p31',\n",
              " 'province.id_p4',\n",
              " 'province.id_p7',\n",
              " 'city.id_43',\n",
              " 'city.id_44',\n",
              " 'city.id_45',\n",
              " 'city.id_46',\n",
              " 'city.id_47',\n",
              " 'city.id_48',\n",
              " 'city.id_49',\n",
              " 'city.id_50',\n",
              " 'city.id_51',\n",
              " 'city.id_52',\n",
              " 'city.id_54',\n",
              " 'city.id_56',\n",
              " 'city.id_57',\n",
              " 'city.id_58',\n",
              " 'city.id_59',\n",
              " 'city.id_61',\n",
              " 'city.id_62',\n",
              " 'city.id_63',\n",
              " 'city.id_82',\n",
              " 'city.id_88',\n",
              " 'city.id_186',\n",
              " 'city.id_194',\n",
              " 'city.id_303',\n",
              " 'city.id_305',\n",
              " 'city.id_352',\n",
              " 'city.id_354',\n",
              " 'city.id_359',\n",
              " 'city.id_362',\n",
              " 'city.id_363',\n",
              " 'city.id_368',\n",
              " 'city.id_372',\n",
              " 'city.id_404',\n",
              " 'city.id_405',\n",
              " 'city.id_406',\n",
              " 'city.id_410',\n",
              " 'city.id_411',\n",
              " 'city.id_415',\n",
              " 'city.id_418',\n",
              " 'city.id_420',\n",
              " 'city.id_425',\n",
              " 'city.id_433',\n",
              " 'city.id_435',\n",
              " 'city.id_436',\n",
              " 'city.id_438',\n",
              " 'city.id_441',\n",
              " 'city.id_442',\n",
              " 'city.id_444',\n",
              " 'city.id_446',\n",
              " 'city.id_449',\n",
              " 'city.id_455',\n",
              " 'city.id_456',\n",
              " 'city.id_467',\n",
              " 'city.id_485',\n",
              " 'city.id_487']"
            ]
          },
          "execution_count": 91,
          "metadata": {},
          "output_type": "execute_result"
        }
      ],
      "source": [
        "list(df.corr().columns)"
      ]
    },
    {
      "cell_type": "code",
      "execution_count": 110,
      "metadata": {},
      "outputs": [],
      "source": [
        "from sklearn.model_selection import train_test_split\n",
        "\n",
        "\n",
        "X = df.drop(\"min_price\", axis=1)\n",
        "y = df[\"min_price\"]\n",
        "\n",
        "\n",
        "X_train, X_test, y_train, y_test = train_test_split(\n",
        "    X, y, test_size=0.2, random_state=42\n",
        ")"
      ]
    },
    {
      "cell_type": "markdown",
      "metadata": {
        "id": "2tHaVKFyYdxr"
      },
      "source": [
        "<h2 align=right style=\"line-height:200%;font-family:vazir;color:#0099cc\">\n",
        "<font face=\"vazir\" color=\"#0099cc\">\n",
        "مدل‌سازی\n",
        "</font>\n",
        "</h2>\n",
        "\n",
        "<p dir=rtl style=\"direction: rtl; text-align: justify; line-height:200%; font-family:vazir; font-size:medium\">\n",
        "<font face=\"vazir\" size=3>\n",
        "پس از پاکسازی داده‌ها و احتمالا حذف بعضی ستون‌ها یا افزودن ویژگی‌های جدید، حال وقت آن است که مطابق سلیقه‌ی خود، مدل مناسب را با استفاده از داده‌های پیش‌پردازش شده آموزش دهید.\n",
        "</font>\n",
        "</p>"
      ]
    },
    {
      "cell_type": "markdown",
      "metadata": {
        "id": "cLoHLZkUYm8Q"
      },
      "source": [
        "<h3 align=right style=\"line-height:200%;font-family:vazir;color:#0099cc\">\n",
        "<font face=\"vazir\" color=\"#0099cc\">\n",
        "معیار ارزیابی\n",
        "</font>\n",
        "</h3>\n",
        "<p dir=rtl style=\"direction: rtl; text-align: justify; line-height:200%; font-family:vazir; font-size:medium\">\n",
        "<font face=\"vazir\" size=3>\n",
        "    در این سوال از معیار  R2 Score جهت ارزیابی نتایج مدل شما استفاده خواهد شد.\n",
        "    در سامانه داوری هم از این معیار برای نمره‌دهی استفاده شده است.\n",
        "    <br>\n",
        "    پیشنهاد می‌شود با توجه به این معیار، عملکرد مدل خود را بر روی مجموعه‌ی آموزش یا اعتبارسنجی ارزیابی کنید.\n",
        "</font>\n",
        "</p>"
      ]
    },
    {
      "cell_type": "code",
      "execution_count": 128,
      "metadata": {
        "id": "MjP1etskYtjC"
      },
      "outputs": [
        {
          "name": "stdout",
          "output_type": "stream",
          "text": [
            "Fitting 3 folds for each of 1 candidates, totalling 3 fits\n",
            "[CV] END colsample_bytree=0.6, learning_rate=0.01, max_depth=8, n_estimators=900, subsample=0.6; total time=  11.7s\n",
            "[CV] END colsample_bytree=0.6, learning_rate=0.01, max_depth=8, n_estimators=900, subsample=0.6; total time=   6.5s\n",
            "[CV] END colsample_bytree=0.6, learning_rate=0.01, max_depth=8, n_estimators=900, subsample=0.6; total time=   5.4s\n",
            "{'colsample_bytree': 0.6, 'learning_rate': 0.01, 'max_depth': 8, 'n_estimators': 900, 'subsample': 0.6}\n",
            "0.6906213363011678\n"
          ]
        }
      ],
      "source": [
        "import xgboost as xgb\n",
        "from sklearn.model_selection import GridSearchCV\n",
        "from sklearn.metrics import r2_score\n",
        "\n",
        "param_grid = {\n",
        "    \"n_estimators\": [900],\n",
        "    \"max_depth\": [8],\n",
        "    \"learning_rate\": [0.01],\n",
        "    \"subsample\": [0.6],\n",
        "    \"colsample_bytree\": [0.6],\n",
        "}\n",
        "\n",
        "xgb_model = xgb.XGBRegressor(\n",
        "    objective=\"reg:squarederror\",\n",
        "    random_state=42,\n",
        "    subsample=0.6,\n",
        "    colsample_bytree=0.6\n",
        ")\n",
        "\n",
        "grid_search = GridSearchCV(\n",
        "    estimator=xgb_model,\n",
        "    param_grid=param_grid,\n",
        "    cv=3,\n",
        "    scoring=\"r2\",\n",
        "    verbose=2,\n",
        "    n_jobs=1,\n",
        ")\n",
        "\n",
        "grid_search.fit(X, y)\n",
        "print(grid_search.best_params_)\n",
        "print(grid_search.best_score_)"
      ]
    },
    {
      "cell_type": "markdown",
      "metadata": {
        "id": "jyWHmH6qY3Ug"
      },
      "source": [
        "<p dir=rtl style=\"direction: rtl; text-align: justify; line-height:200%; font-family:vazir; font-size:medium\">\n",
        "<font color=\"red\"><b color='red'>توجه:</b></font>\n",
        "<font face=\"vazir\" size=3>\n",
        " جهت کسب امتیاز نیاز است تا پاسخ شما حداقل امتیاز <code>50</code> را با توجه به معیار معرفی‌شده کسب نماید.\n",
        "</font>\n",
        "</p>"
      ]
    },
    {
      "cell_type": "code",
      "execution_count": 67,
      "metadata": {},
      "outputs": [
        {
          "name": "stdout",
          "output_type": "stream",
          "text": [
            "{'colsample_bytree': 0.6, 'learning_rate': 0.01, 'max_depth': 8, 'n_estimators': 500, 'subsample': 0.6}\n",
            "0.6814553538958231\n"
          ]
        }
      ],
      "source": [
        "print(grid_search.best_params_)\n",
        "print(grid_search.best_score_)\n",
        "# print(grid_search.best_estimator_)\n",
        "# print(grid_search.cv_results_)\n",
        "\n",
        "\n",
        "# r2\n",
        "# y_pred = grid_search.predict(X_test)\n",
        "# r2score = r2_score(y_test, y_pred)\n",
        "# print(round(r2score, 3) * 250)"
      ]
    },
    {
      "cell_type": "code",
      "execution_count": 119,
      "metadata": {},
      "outputs": [
        {
          "name": "stdout",
          "output_type": "stream",
          "text": [
            "Fitting 3 folds for each of 1 candidates, totalling 3 fits\n",
            "[CV] END ............................depth=8, iterations=700; total time=   7.3s\n",
            "[CV] END ............................depth=8, iterations=700; total time=   7.4s\n",
            "[CV] END ............................depth=8, iterations=700; total time=   7.2s\n",
            "Best Hyperparameters:  {'depth': 8, 'iterations': 700}\n",
            "Best Score:  0.676245263442246\n"
          ]
        }
      ],
      "source": [
        "# Grid Search Catboost\n",
        "from sklearn.model_selection import GridSearchCV\n",
        "from catboost import CatBoostRegressor\n",
        "import pandas as pd\n",
        "\n",
        "param_grid = {\n",
        "    \"iterations\": [700],\n",
        "    \"depth\": [8],\n",
        "}\n",
        "\n",
        "catboost_model = CatBoostRegressor(\n",
        "    loss_function=\"RMSE\",\n",
        "    verbose=0,\n",
        "    task_type=\"GPU\",\n",
        "    bootstrap_type=\"Bernoulli\",\n",
        "    devices=\"0\",\n",
        "    random_state=42,\n",
        "    l2_leaf_reg=3,\n",
        "    subsample=0.8,\n",
        "    learning_rate=0.05\n",
        ")\n",
        "\n",
        "\n",
        "grid_search_cat = GridSearchCV(\n",
        "    estimator=catboost_model,\n",
        "    param_grid=param_grid,\n",
        "    cv=3,\n",
        "    scoring=\"r2\",\n",
        "    verbose=2,\n",
        "    n_jobs=1,\n",
        ")\n",
        "\n",
        "grid_search_cat.fit(X, y)\n",
        "\n",
        "print(\"Best Hyperparameters: \", grid_search_cat.best_params_)\n",
        "print(\"Best Score: \", grid_search_cat.best_score_)\n",
        "\n",
        "best_model = grid_search_cat.best_estimator_\n"
      ]
    },
    {
      "cell_type": "markdown",
      "metadata": {
        "id": "WNcSEtXoyhMv"
      },
      "source": [
        "<h2 align=right style=\"line-height:200%;font-family:vazir;color:#0099cc\">\n",
        "<font face=\"vazir\" color=\"#0099cc\">\n",
        " پیش‌بینی بر روی داده‌ی آزمون و خروجی\n",
        "</font>\n",
        "</h2>\n",
        "\n",
        "<p dir=rtl style=\"direction: rtl;text-align: justify;line-height:200%;font-family:vazir;font-size:medium\">\n",
        "<font face=\"vazir\" size=3>\n",
        "    پیش‌بینی مدل خود بر روی داده‌های آزمون را در یک دیتافریم (<code>dataframe</code>) به فرمت زیر ذخیره کنید.\n",
        "</font>\n",
        "</p>\n",
        "\n",
        "\n",
        "<p dir=rtl style=\"direction: rtl;text-align: justify;line-height:200%;font-family:vazir;font-size:medium\">\n",
        "<font face=\"vazir\" size=3>\n",
        "    توجه داشته باشید که نام دیتافریم باید <code>submission</code> باشد؛ در غیر این‌صورت، سامانه‌ی داوری قادر به ارزیابی خروجی شما نخواهد بود.\n",
        "    این دیتافریم تنها شامل ۱ ستون با اسم <code>min_price</code> است.\n",
        "    <br>\n",
        "    به ازای هر سطر موجود در دیتافریم <code>test</code>، باید یک مقدار پیش‌بینی‌شده داشته باشید.\n",
        "    به‌عنوان مثال جدول زیر، ۵ سطر ابتدایی دیتافریم <code>submission</code> را نشان می‌دهد. البته در جواب شما، اعداد ستون <code>min_price</code> ممکن است متفاوت باشد.\n",
        "</font>\n",
        "</p>\n",
        "\n",
        "<center>\n",
        "<div style=\"direction: ltr;line-height:200%;font-family:vazir;font-size:medium\">\n",
        "<font face=\"vazir\" size=3>\n",
        "    \n",
        "||<code>min_price</code>|\n",
        "|:----:|:-----:|\n",
        "|0|700000|\n",
        "|1|650000|\n",
        "|2|5000000|\n",
        "|3|800000|\n",
        "|4|750000|\n",
        "\n",
        "</font>\n",
        "</div>\n",
        "</center>"
      ]
    },
    {
      "cell_type": "code",
      "execution_count": 168,
      "metadata": {},
      "outputs": [],
      "source": [
        "# def preprocess(train_data):\n",
        "#     columns_to_drop = [\n",
        "#         \"id\",\n",
        "#         \"city.url\",\n",
        "#         \"city.id\",\n",
        "#         \"city.name\",\n",
        "#         \"title\",\n",
        "#         \"description\",\n",
        "#         \"province.url\",\n",
        "#         \"province.name\",\n",
        "#         \"province.id\",\n",
        "#         \"sleep_description\",\n",
        "#         \"floors_count\",\n",
        "#     ]\n",
        "#     train_data.drop(columns=columns_to_drop, axis=1, inplace=True)\n",
        "#     numerical_data = train_data.select_dtypes(include=[int, float])\n",
        "#     numerical_data.fillna(numerical_data.mean(), inplace=True)\n",
        "#     return numerical_data"
      ]
    },
    {
      "cell_type": "code",
      "execution_count": 129,
      "metadata": {},
      "outputs": [],
      "source": [
        "columns = list(df.columns)\n",
        "columns.remove(\"min_price\")"
      ]
    },
    {
      "cell_type": "code",
      "execution_count": null,
      "metadata": {},
      "outputs": [],
      "source": [
        "len(df.columns)"
      ]
    },
    {
      "cell_type": "code",
      "execution_count": null,
      "metadata": {},
      "outputs": [],
      "source": [
        "df.columns"
      ]
    },
    {
      "cell_type": "code",
      "execution_count": 130,
      "metadata": {},
      "outputs": [
        {
          "name": "stdout",
          "output_type": "stream",
          "text": [
            "1194\n"
          ]
        }
      ],
      "source": [
        "test_data = pd.read_csv('../data/test.csv')\n",
        "\n",
        "df_test = preprocess(test_data, \"test\")\n",
        "print(len(df_test))\n",
        "for col in df.columns:\n",
        "    if col not in df_test.columns:\n",
        "        df_test[col] = 0\n",
        "\n",
        "df_test = df_test[columns]\n",
        "\n",
        "# Predict\n",
        "y_pred = grid_search.predict(df_test)\n",
        "# y_pred = inverse_transform_min_price(y_pred)\n",
        "test_data[\"min_price\"] = y_pred"
      ]
    },
    {
      "cell_type": "code",
      "execution_count": 131,
      "metadata": {
        "id": "rJuhMbbHY7-f"
      },
      "outputs": [
        {
          "data": {
            "text/plain": [
              "0       1.355975e+06\n",
              "1       1.463356e+06\n",
              "2       1.215102e+06\n",
              "3       1.257106e+06\n",
              "4       9.702696e+05\n",
              "            ...     \n",
              "1189    1.523654e+06\n",
              "1190    1.220776e+06\n",
              "1191    1.361623e+06\n",
              "1192    4.992906e+06\n",
              "1193    9.277542e+05\n",
              "Name: min_price, Length: 1194, dtype: float32"
            ]
          },
          "execution_count": 131,
          "metadata": {},
          "output_type": "execute_result"
        }
      ],
      "source": [
        "# To-Do\n",
        "submission = test_data[\"min_price\"]\n",
        "submission"
      ]
    },
    {
      "cell_type": "markdown",
      "metadata": {
        "id": "sHGyEstwzlc3"
      },
      "source": [
        "<h2 align=right style=\"line-height:200%;font-family:vazir;color:#0099cc\">\n",
        "<font face=\"vazir\" color=\"#0099cc\">\n",
        "<b>سلول جواب‌ساز</b>\n",
        "</font>\n",
        "</h2>\n",
        "\n",
        "<p dir=rtl style=\"direction: rtl; text-align: justify; line-height:200%; font-family:vazir; font-size:medium\">\n",
        "<font face=\"vazir\" size=3>\n",
        "    برای ساخته‌شدن فایل <code>result.zip</code> سلول زیر را اجرا کنید. توجه داشته باشید که پیش از اجرای سلول زیر تغییرات اعمال شده در نت‌بوک را ذخیره کرده باشید (<code>ctrl+s</code>) تا در صورت نیاز به پشتیبانی امکان بررسی کد شما وجود داشته باشد.\n",
        "</font>\n",
        "</p>"
      ]
    },
    {
      "cell_type": "code",
      "execution_count": 132,
      "metadata": {
        "id": "LWuqWi46zi_-"
      },
      "outputs": [
        {
          "name": "stdout",
          "output_type": "stream",
          "text": [
            "File Paths:\n",
            "['submission.csv', 'Jajiga.ipynb']\n"
          ]
        }
      ],
      "source": [
        "import zipfile\n",
        "\n",
        "def compress(file_names):\n",
        "    print(\"File Paths:\")\n",
        "    print(file_names)\n",
        "    compression = zipfile.ZIP_DEFLATED\n",
        "    with zipfile.ZipFile(\"result.zip\", mode=\"w\") as zf:\n",
        "        for file_name in file_names:\n",
        "            zf.write('./' + file_name, file_name, compress_type=compression)\n",
        "\n",
        "submission.to_csv('submission.csv', index=False)\n",
        "\n",
        "file_names = ['submission.csv', 'Jajiga.ipynb']\n",
        "compress(file_names)"
      ]
    }
  ],
  "metadata": {
    "colab": {
      "provenance": []
    },
    "kernelspec": {
      "display_name": "Python 3",
      "name": "python3"
    },
    "language_info": {
      "codemirror_mode": {
        "name": "ipython",
        "version": 3
      },
      "file_extension": ".py",
      "mimetype": "text/x-python",
      "name": "python",
      "nbconvert_exporter": "python",
      "pygments_lexer": "ipython3",
      "version": "3.12.5"
    }
  },
  "nbformat": 4,
  "nbformat_minor": 0
}
