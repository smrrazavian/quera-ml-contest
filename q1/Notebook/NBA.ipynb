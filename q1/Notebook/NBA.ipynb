{
 "cells": [
  {
   "cell_type": "markdown",
   "id": "a708200d",
   "metadata": {},
   "source": [
    "<h1 align=center style=\"line-height:200%;font-family:vazir;color:#0099cc\">\n",
    "<font face=\"vazir\" color=\"#0099cc\">\n",
    "    بسکتبالیست‌ها\n",
    "</font>\n",
    "</h1>"
   ]
  },
  {
   "cell_type": "markdown",
   "id": "bd684f23",
   "metadata": {},
   "source": [
    "<p dir=rtl style=\"direction: rtl;text-align: right;line-height:200%;font-family:vazir;font-size:medium\">\n",
    "    <font face=\"vazir\" size=3>\n",
    "        در این سوال قصد داریم تا داده‌های مربوط به عملکرد بازیکنان لیگ بسکتبال NBA را تحلیل کنیم.\n",
    "        پس کافی است تا کار‌هایی که از شما خواسته شده را مرحله به مرحله انجام دهید.\n",
    "    </font>\n",
    "</p>"
   ]
  },
  {
   "cell_type": "markdown",
   "id": "8c60fd2f",
   "metadata": {},
   "source": [
    "<h2 align=right style=\"line-height:200%;font-family:vazir;color:#0099cc\">\n",
    "    <font face=\"vazir\" color=\"#0099cc\">\n",
    "        مجموعه‌داده\n",
    "    </font>\n",
    "</h2>\n",
    "\n",
    "<p dir=rtl style=\"direction: rtl;text-align: right;line-height:200%;font-family:vazir;font-size:medium\">\n",
    "    <font face=\"vazir\" size=3>\n",
    "        مجموعه‌داده‌ای که در احتیار شما قرار گرفته است شامل اطلاعات عملکرد بازیکنان NBA در فصل‌های ۲۰۰۰ الی ۲۰۰۹ است.\n",
    "    این مجموعه شامل ۱۸۳۰ سطر و ۱۸ ستون می‌باشد که هر سطر آن شامل اطلاعات یک بازیکن در یک فصل است. توضیحات مربوط به ستون‌ها نیز در جدول زیر آمده است.\n",
    "    </font>\n",
    "</p>\n",
    "\n",
    "<center>\n",
    "<div dir=rtl style=\"direction: rtl;line-height:200%;font-family:vazir;font-size:medium\">\n",
    "<font face=\"vazir\" size=3>\n",
    "    \n",
    "|ستون|توضیحات|\n",
    "|:------:|:---:|\n",
    "|<code>PlAYER</code>|نام بازیکن|\n",
    "|<code>TEAM</code>|مخفف اسم تیم بازیکن در آن فصل|\n",
    "|<code>YEAR</code>|سال (فصل مسابقات)|\n",
    "|<code>GP</code>|تعداد بازی‌های انجام شده|\n",
    "|<code>MIN</code>|میانگین دقایق بازی کرده|\n",
    "|<code>PTS</code>|میانگین امتیاز|\n",
    "|<code>FGM</code>|میانگین تعداد پرتاب‌های ۲ امتیازی موفق|\n",
    "|<code>FGA</code>|میانگین تعداد کل پرتاب‌های ۲ امتیازی|\n",
    "|<code>3PM</code>|میانگین تعداد پرتاب‌های ۳ امتیازی موفق|\n",
    "|<code>3PA</code>|میانگین تعداد کل پرتاب‌های ۳ امتیازی|\n",
    "|<code>FTM</code>|میانگین تعداد پرتاب‌های آزاد (پنالتی) موفق|\n",
    "|<code>FTA</code>|میانگین تعداد کل پرتاب‌های آزاد (پنالتی)|\n",
    "|<code>OREB</code>|میانگین تعداد ریباند‌ها در حمله|\n",
    "|<code>DREB</code>|میانگین تعداد ریباند‌ها در دفاع|\n",
    "|<code>AST</code>|میانگین تعداد پاس‌های منجر به امتیاز|\n",
    "|<code>STL</code>|میانگین تعداد دفعات توپ‌ربایی|\n",
    "|<code>BLK</code>|میانگین تعداد بلاک‌ها|\n",
    "|<code>TOV</code>|میانگین تعداد دفعات لو دادن توپ|\n",
    "    \n",
    "</font>\n",
    "</div>\n",
    "</center>"
   ]
  },
  {
   "cell_type": "markdown",
   "id": "59ec7fa8",
   "metadata": {},
   "source": [
    "<p dir=rtl style=\"direction: rtl; text-align: justify; line-height:200%; font-family:vazir; font-size:medium\">\n",
    "<font face=\"vazir\" size=3>\n",
    "   با استفاده از سلول زیر کتابخانه‌های مورد نیاز خود را <code>import</code> کنید و سپس مجموعه‌داده را که در فایلی به نام <code>NBA2000-2009.csv</code> قرار دارد، بخوانید. \n",
    "</font>\n",
    "</p>"
   ]
  },
  {
   "cell_type": "code",
   "execution_count": 1,
   "id": "5842fbd0",
   "metadata": {},
   "outputs": [
    {
     "ename": "ModuleNotFoundError",
     "evalue": "No module named 'pandas'",
     "output_type": "error",
     "traceback": [
      "\u001b[0;31m---------------------------------------------------------------------------\u001b[0m",
      "\u001b[0;31mModuleNotFoundError\u001b[0m                       Traceback (most recent call last)",
      "Cell \u001b[0;32mIn[1], line 1\u001b[0m\n\u001b[0;32m----> 1\u001b[0m \u001b[38;5;28;01mimport\u001b[39;00m \u001b[38;5;21;01mpandas\u001b[39;00m \u001b[38;5;28;01mas\u001b[39;00m \u001b[38;5;21;01mpd\u001b[39;00m\n\u001b[1;32m      2\u001b[0m \u001b[38;5;28;01mimport\u001b[39;00m \u001b[38;5;21;01mpathlib\u001b[39;00m\n\u001b[1;32m      4\u001b[0m df \u001b[38;5;241m=\u001b[39m pd\u001b[38;5;241m.\u001b[39mread_csv(pathlib\u001b[38;5;241m.\u001b[39mPath(\u001b[38;5;18m__file__\u001b[39m)\u001b[38;5;241m.\u001b[39mparent \u001b[38;5;241m/\u001b[39m \u001b[38;5;124m'\u001b[39m\u001b[38;5;124mData\u001b[39m\u001b[38;5;124m'\u001b[39m \u001b[38;5;241m/\u001b[39m \u001b[38;5;124m'\u001b[39m\u001b[38;5;124mNBA2000-2009.csv\u001b[39m\u001b[38;5;124m'\u001b[39m)\n",
      "\u001b[0;31mModuleNotFoundError\u001b[0m: No module named 'pandas'"
     ]
    }
   ],
   "source": [
    "import pandas as pd\n",
    "import pathlib\n",
    "\n",
    "df = pd.read_csv(pathlib.Path(__file__).parent / 'Data' / 'NBA2000-2009.csv')\n",
    "df.head()"
   ]
  },
  {
   "cell_type": "markdown",
   "id": "83f6940c",
   "metadata": {},
   "source": [
    "<h2 align=right style=\"line-height:200%;font-family:vazir;color:#0099cc\">\n",
    "    <font face=\"vazir\" color=\"#0099cc\">\n",
    "        قسمت اول\n",
    "    </font>\n",
    "</h2>\n",
    "\n",
    "<p dir=rtl style=\"direction: rtl;text-align: justify;line-height:200%;font-family:vazir;font-size:medium\">\n",
    "    <font face=\"vazir\" size=3>\n",
    "         لیستی از بازیکن‌ها و فصل‌ها را بدست آورید که در آن فصل، آن بازیکن در حداقل ۲ تا از ۵ ملاک اصلی آمار دو رقمی (بزرگتر مساوی ۱۰) ثبت کرده باشد. \n",
    "        <br>\n",
    "        منظور از ۵ ملاک اصلی میانگین امتیاز، میانگین تعداد ریباند (مجموع ریباند در دفاع و حمله)، میانگین تعداد پاس‌های منجر به گل، میانگین تعداد بلاک‌ها و میانگین تعداد توپ‌ربایی‌ها است.\n",
    "    </font>\n",
    "    <br>\n",
    "    <font face=\"vazir\" color=\"red\">\n",
    "        خروجی:\n",
    "    </font>\n",
    "    نتیجه‌ی درخواست را در دیتافریمی با نام <code>double_double</code> قرار دهید.\n",
    "    این دیتافریم باید شامل ۷ ستون باشد که ستون‌ها از چپ به راست به ترتیب نام بازیکن، سال، میانگین امتیاز، میانگین تعداد پاس‌های منجر به گل، میانگین تعداد ریباند‌ها، میانگین تعداد بلاک‌ها و میانگین تعداد توپ‌ربایی‌ها باشند. همچنین کل دیتافریم باید به ترتیب برحسب سال و نام بازیکن به صورت صعودی مرتب باشد. دو سطر اول این دیتافریم به شکل زیر است:\n",
    "</p>\n",
    "\n",
    "<center>\n",
    "<div style=\"line-height:200%;font-family:vazir;font-size:medium\">\n",
    "<font face=\"vazir\" size=3>\n",
    "    \n",
    "|PLAYER|YEAR|PTS|AST|REB|STL|BLK|\n",
    "|:---:|:---:|:---:|:---:|:---:|:---:|:---:|\n",
    "|Antonio Davis|2000|13.7|1.4|10.1|0.3|1.9|\n",
    "|Antonio McDyess|2000|20.8|2.1|12.0|0.6|1.5|\n",
    "    \n",
    "</font>\n",
    "</div>\n",
    "</center>"
   ]
  },
  {
   "cell_type": "code",
   "execution_count": null,
   "id": "3e079ea3",
   "metadata": {},
   "outputs": [],
   "source": [
    "double_double = #TODO\n"
   ]
  },
  {
   "cell_type": "markdown",
   "id": "ae2261a6",
   "metadata": {},
   "source": [
    "<h2 align=right style=\"line-height:200%;font-family:vazir;color:#0099cc\">\n",
    "    <font face=\"vazir\" color=\"#0099cc\">\n",
    "        قسمت دوم\n",
    "    </font>\n",
    "</h2>\n",
    "\n",
    "<p dir=rtl style=\"direction: rtl;text-align: justify;line-height:200%;font-family:vazir;font-size:medium\">\n",
    "    <font face=\"vazir\" size=3>\n",
    "         باارزش‌ترین بازیکنان این ۱۰ فصل را مشخص کنید.\n",
    "        ارزش یک بازیکن در یک فصل با استفاده از فرمول زیر بدست می‌آید:\n",
    "    </font>\n",
    "    $$ (PTS + OREB + DREB + AST + STL + BLK) - (TOV + Missed FG + Missed FT) $$\n",
    "    منظور از <code>Missed FG</code> و <code>Missed FT</code> به ترتیب میانگین تعداد پرتاب‌های ۲ امتیازی و آزاد از دست رفته است.  \n",
    "    <br>\n",
    "    ارزش یک بازیکن در کل ۱۰ فصل برابر است با میانگین ارزش او در هر فصل.\n",
    "    <br>\n",
    "    <font face=\"vazir\" color=\"red\">\n",
    "        خروجی:\n",
    "    </font>\n",
    "    نتیجه‌ی درخواست را در دیتافریمی با نام <code>best_player</code> قرار دهید.\n",
    "    این دیتافریم شامل دو ستون است که یکی نام بازیکن و دومی ارزش آن بازیکن است که تا دو رقم اعشار باید گرد شود. همچنین این دیتافریم باید بر اساس ارزش به صورت نزولی و سپس بر اساس نام بازیکن به‌صورت صعودی مرتب باشد.\n",
    "    دو سطر اول این دیتافریم به شکل زیر است:\n",
    "</p>\n",
    "\n",
    "<center>\n",
    "<div style=\"line-height:200%;font-family:vazir;font-size:medium\">\n",
    "<font face=\"vazir\" size=3>\n",
    "    \n",
    "|PLAYER|VALUE|\n",
    "|:------:|:---:|\n",
    "|Kevin Garnett|29.74|\n",
    "|LeBron James|27.9|\n",
    "    \n",
    "</font>\n",
    "</div>\n",
    "</center>"
   ]
  },
  {
   "cell_type": "code",
   "execution_count": null,
   "id": "7ed18159",
   "metadata": {},
   "outputs": [],
   "source": [
    "best_player= #TODO\n"
   ]
  },
  {
   "cell_type": "markdown",
   "id": "828b296d",
   "metadata": {},
   "source": [
    "<h2 align=right style=\"line-height:200%;font-family:vazir;color:#0099cc\">\n",
    "    <font face=\"vazir\" color=\"#0099cc\">\n",
    "        قسمت سوم\n",
    "    </font>\n",
    "</h2>\n",
    "\n",
    "<p dir=rtl style=\"direction: rtl;text-align: justify;line-height:200%;font-family:vazir;font-size:medium\">\n",
    "    <font face=\"vazir\" size=3>\n",
    "         در هر سال چه تیمی بیشترین میانگین امتیاز را ثبت کرده است؟\n",
    "        <br>\n",
    "        توجه داشته باشید که میانگین امتیاز یک تیم برابر است با مجموع میانگین امتیاز بازیکن‌هایش.\n",
    "    </font>\n",
    "    <br>\n",
    "    <font face=\"vazir\" color=\"red\">\n",
    "        خروجی:\n",
    "    </font>\n",
    "    نتیجه‌ی درخواست را در دیتافریمی با نام <code>max_PTS_of_year</code> قرار دهید.\n",
    "    این دیتافریم باید شامل سه ستون باشد که ستون‌ها از چپ به راست به ترتیب سال، نام تیم و میانگین امتیاز است که امتیاز‌ها باید تا دو رقم اعشار گرد شوند. همچنین کل دیتافریم باید برحسب سال به صورت صعودی مرتب باشد. دو سطر اول این دیتافریم به شکل زیر است:\n",
    "</p>\n",
    "\n",
    "<center>\n",
    "<div style=\"line-height:200%;font-family:vazir;font-size:medium\">\n",
    "<font face=\"vazir\" size=3>\n",
    "    \n",
    "|YEAR|TEAM|PTS|\n",
    "|:------:|:---:|:---:|\n",
    "|2000|SAC|100.2|\n",
    "|2001|LAL|95.9|\n",
    "    \n",
    "</font>\n",
    "</div>\n",
    "</center>"
   ]
  },
  {
   "cell_type": "code",
   "execution_count": null,
   "id": "50a6c2c3",
   "metadata": {},
   "outputs": [],
   "source": [
    "max_PTS_of_year = #TODO\n"
   ]
  },
  {
   "cell_type": "markdown",
   "id": "92aa3439",
   "metadata": {},
   "source": [
    "<h2 dir=rtl align=right style=\"line-height:200%;font-family:vazir;color:#0099cc\">\n",
    "<font face=\"vazir\" color=\"#0099cc\">\n",
    "<b>سلول جواب‌ساز</b>\n",
    "</font>\n",
    "</h2>\n",
    "\n",
    "<p dir=rtl style=\"direction: rtl; text-align: justify; line-height:200%; font-family:vazir; font-size:medium\">\n",
    "<font face=\"vazir\" size=3>\n",
    "    برای ساخته‌شدن فایل <code>result.zip</code> سلول زیر را اجرا کنید. توجه داشته باشید که پیش از اجرای سلول زیر تغییرات اعمال شده در نت‌بوک را ذخیره کرده باشید (<code>ctrl+s</code>) در غیر این صورت، در پایان مسابقه نمره شما به صفر تغییر خواهد کرد.\n",
    "    <br>\n",
    "    همچنین اگر از کولب برای اجرای این فایل نوت‌بوک استفاده می‌کنید، قبل از ارسال فایل <code>result.zip</code>، آخرین نسخه‌ی نوت‌بوک خود را دانلود کرده و داخل فایل ارسالی قرار دهید.\n",
    "</font>"
   ]
  },
  {
   "cell_type": "code",
   "execution_count": null,
   "id": "b887c08c",
   "metadata": {},
   "outputs": [],
   "source": [
    "import zipfile\n",
    "\n",
    "if not os.path.exists(os.path.join(os.getcwd(), 'NBA.ipynb')):\n",
    "    %notebook -e NBA.ipynb\n",
    "\n",
    "double_double.to_csv('double_double.csv', index=False)\n",
    "best_player.to_csv('best_player.csv', index=False)\n",
    "max_PTS_of_year.to_csv('max_PTS_of_year.csv', index=False)\n",
    "\n",
    "def compress(file_names):\n",
    "    print(\"File Paths:\")\n",
    "    print(file_names)\n",
    "    compression = zipfile.ZIP_DEFLATED\n",
    "    with zipfile.ZipFile(\"result.zip\", mode=\"w\") as zf:\n",
    "        for file_name in file_names:\n",
    "            zf.write('./' + file_name, file_name, compress_type=compression)\n",
    "\n",
    "file_names = ['double_double.csv', 'best_player.csv', 'max_PTS_of_year.csv', 'NBA.ipynb']\n",
    "compress(file_names)"
   ]
  }
 ],
 "metadata": {
  "kernelspec": {
   "display_name": "Python 3 (ipykernel)",
   "language": "python",
   "name": "python3"
  },
  "language_info": {
   "codemirror_mode": {
    "name": "ipython",
    "version": 3
   },
   "file_extension": ".py",
   "mimetype": "text/x-python",
   "name": "python",
   "nbconvert_exporter": "python",
   "pygments_lexer": "ipython3",
   "version": "3.10.12"
  }
 },
 "nbformat": 4,
 "nbformat_minor": 5
}
